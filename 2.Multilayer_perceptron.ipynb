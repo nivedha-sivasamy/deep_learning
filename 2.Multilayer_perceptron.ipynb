{
  "nbformat": 4,
  "nbformat_minor": 0,
  "metadata": {
    "colab": {
      "provenance": []
    },
    "kernelspec": {
      "name": "python3",
      "display_name": "Python 3"
    },
    "language_info": {
      "name": "python"
    }
  },
  "cells": [
    {
      "cell_type": "markdown",
      "source": [
        "## Aim: To implement a multilayer perceptron to classify the given data using keras.\n",
        "\n",
        "## Dataset: MNIST handwritten digit classification dataset."
      ],
      "metadata": {
        "id": "7bP42PgOVeGQ"
      }
    },
    {
      "cell_type": "code",
      "source": [
        "import numpy as np\n",
        "from keras.layers import Dense,Flatten,Activation\n",
        "from keras.models import Sequential\n",
        "import matplotlib.pyplot as plt\n",
        "import tensorflow as tf\n",
        "from google.colab.patches import cv2_imshow\n",
        "import cv2\n",
        "from keras.utils import to_categorical\n",
        "import pandas as pd"
      ],
      "metadata": {
        "id": "LgEEE_-cD7bD"
      },
      "execution_count": null,
      "outputs": []
    },
    {
      "cell_type": "code",
      "source": [
        "df=pd.DataFrame(columns=['Hidden_layer','Activation','Train_Accuracy',\n",
        "                         'Test_Accuracy'])"
      ],
      "metadata": {
        "id": "X89UBqczJohF"
      },
      "execution_count": null,
      "outputs": []
    },
    {
      "cell_type": "code",
      "source": [
        "(x_train,y_train) , (x_test,y_test)=tf.keras.datasets.mnist.load_data()"
      ],
      "metadata": {
        "id": "A-s41cJgD7W7",
        "colab": {
          "base_uri": "https://localhost:8080/"
        },
        "outputId": "e10d7b38-ce6c-4ed7-bfa1-7fdf6adf596d"
      },
      "execution_count": null,
      "outputs": [
        {
          "output_type": "stream",
          "name": "stdout",
          "text": [
            "Downloading data from https://storage.googleapis.com/tensorflow/tf-keras-datasets/mnist.npz\n",
            "11490434/11490434 [==============================] - 0s 0us/step\n"
          ]
        }
      ]
    },
    {
      "cell_type": "code",
      "source": [
        "print(f\"X train shape {x_train.shape}\\nX test shape {x_test.shape}\")\n",
        "print(f\"Y train shape {y_train.shape}\\nY test shape {y_test.shape}\")"
      ],
      "metadata": {
        "colab": {
          "base_uri": "https://localhost:8080/"
        },
        "id": "0lyKgPeVD7Uf",
        "outputId": "f6b46152-cd7f-4b9e-ed94-05499dfa5cc6"
      },
      "execution_count": null,
      "outputs": [
        {
          "output_type": "stream",
          "name": "stdout",
          "text": [
            "X train shape (60000, 28, 28)\n",
            "X test shape (10000, 28, 28)\n",
            "Y train shape (60000,)\n",
            "Y test shape (10000,)\n"
          ]
        }
      ]
    },
    {
      "cell_type": "code",
      "source": [
        "for i in range(10):\n",
        "  print(f\"X train {i}\")\n",
        "  cv2_imshow(x_train[i].reshape(28,28))"
      ],
      "metadata": {
        "colab": {
          "base_uri": "https://localhost:8080/",
          "height": 471
        },
        "id": "N-L-dCOND7Rn",
        "outputId": "49b4c1e6-d12b-42d0-b281-f2b79edb357b"
      },
      "execution_count": null,
      "outputs": [
        {
          "output_type": "stream",
          "name": "stdout",
          "text": [
            "X train 0\n"
          ]
        },
        {
          "output_type": "display_data",
          "data": {
            "text/plain": [
              "<PIL.Image.Image image mode=L size=28x28 at 0x7F8508179EB0>"
            ],
            "image/png": "[encoded data removed]"
          },
          "metadata": {}
        },
        {
          "output_type": "stream",
          "name": "stdout",
          "text": [
            "X train 1\n"
          ]
        },
        {
          "output_type": "display_data",
          "data": {
            "text/plain": [
              "<PIL.Image.Image image mode=L size=28x28 at 0x7F8508102DF0>"
            ],
            "image/png": "[encoded data removed]"
          },
          "metadata": {}
        },
        {
          "output_type": "stream",
          "name": "stdout",
          "text": [
            "X train 2\n"
          ]
        },
        {
          "output_type": "display_data",
          "data": {
            "text/plain": [
              "<PIL.Image.Image image mode=L size=28x28 at 0x7F8508179BB0>"
            ],
            "image/png": "[encoded data removed]"
          },
          "metadata": {}
        },
        {
          "output_type": "stream",
          "name": "stdout",
          "text": [
            "X train 3\n"
          ]
        },
        {
          "output_type": "display_data",
          "data": {
            "text/plain": [
              "<PIL.Image.Image image mode=L size=28x28 at 0x7F8508102EE0>"
            ],
            "image/png": "[encoded data removed]"
          },
          "metadata": {}
        },
        {
          "output_type": "stream",
          "name": "stdout",
          "text": [
            "X train 4\n"
          ]
        },
        {
          "output_type": "display_data",
          "data": {
            "text/plain": [
              "<PIL.Image.Image image mode=L size=28x28 at 0x7F8508179EB0>"
            ],
            "image/png": "[encoded data removed]"
          },
          "metadata": {}
        },
        {
          "output_type": "stream",
          "name": "stdout",
          "text": [
            "X train 5\n"
          ]
        },
        {
          "output_type": "display_data",
          "data": {
            "text/plain": [
              "<PIL.Image.Image image mode=L size=28x28 at 0x7F8508102F10>"
            ],
            "image/png": "[encoded data removed]"
          },
          "metadata": {}
        },
        {
          "output_type": "stream",
          "name": "stdout",
          "text": [
            "X train 6\n"
          ]
        },
        {
          "output_type": "display_data",
          "data": {
            "text/plain": [
              "<PIL.Image.Image image mode=L size=28x28 at 0x7F85081799D0>"
            ],
            "image/png": "[encoded data removed]"
          },
          "metadata": {}
        },
        {
          "output_type": "stream",
          "name": "stdout",
          "text": [
            "X train 7\n"
          ]
        },
        {
          "output_type": "display_data",
          "data": {
            "text/plain": [
              "<PIL.Image.Image image mode=L size=28x28 at 0x7F8508102DF0>"
            ],
            "image/png": "[encoded data removed]"
          },
          "metadata": {}
        },
        {
          "output_type": "stream",
          "name": "stdout",
          "text": [
            "X train 8\n"
          ]
        },
        {
          "output_type": "display_data",
          "data": {
            "text/plain": [
              "<PIL.Image.Image image mode=L size=28x28 at 0x7F8508179BB0>"
            ],
            "image/png": "[encoded data removed]"
          },
          "metadata": {}
        },
        {
          "output_type": "stream",
          "name": "stdout",
          "text": [
            "X train 9\n"
          ]
        },
        {
          "output_type": "display_data",
          "data": {
            "text/plain": [
              "<PIL.Image.Image image mode=L size=28x28 at 0x7F8508179A60>"
            ],
            "image/png": "[encoded data removed]"
          },
          "metadata": {}
        }
      ]
    },
    {
      "cell_type": "code",
      "source": [
        "y_train.shape"
      ],
      "metadata": {
        "colab": {
          "base_uri": "https://localhost:8080/"
        },
        "id": "zZ37sk6SnXwX",
        "outputId": "66dc435f-6883-480c-b469-eb8126d85b32"
      },
      "execution_count": null,
      "outputs": [
        {
          "output_type": "execute_result",
          "data": {
            "text/plain": [
              "(60000,)"
            ]
          },
          "metadata": {},
          "execution_count": 7
        }
      ]
    },
    {
      "cell_type": "code",
      "source": [
        "y_train = to_categorical(y_train)\n",
        "y_test = to_categorical(y_test)\n",
        "y_train.shape"
      ],
      "metadata": {
        "id": "RhrA-LIARyxE",
        "colab": {
          "base_uri": "https://localhost:8080/"
        },
        "outputId": "ba0f284b-3fa0-4558-d5ca-5bfe175aaac2"
      },
      "execution_count": null,
      "outputs": [
        {
          "output_type": "execute_result",
          "data": {
            "text/plain": [
              "(60000, 10, 2, 2, 2)"
            ]
          },
          "metadata": {},
          "execution_count": 11
        }
      ]
    },
    {
      "cell_type": "code",
      "source": [
        "# Normalizing x values by dividing by max of x\n",
        "x_train = x_train/255\n",
        "x_test = x_test/255"
      ],
      "metadata": {
        "id": "wKH9cjc9Kt2z"
      },
      "execution_count": null,
      "outputs": []
    },
    {
      "cell_type": "markdown",
      "source": [
        "# Model 1\n",
        "Hidden_layer=2\n",
        "\n",
        "Activation=R,S,S,So"
      ],
      "metadata": {
        "id": "-KrcFf6Gr3zP"
      }
    },
    {
      "cell_type": "code",
      "source": [
        "model1 = Sequential([\n",
        "        Flatten(input_shape=(28,28)),\n",
        "        Dense(130, activation='relu'),\n",
        "        Dense(20, activation='sigmoid'),\n",
        "        Dense(40, activation='sigmoid'),\n",
        "        Dense(10, activation='softmax')])\n",
        "model1.compile(optimizer='adam',loss='categorical_crossentropy',\n",
        "                                                 metrics=['accuracy'])\n",
        "mod1=model1.fit(x_train,y_train,validation_split=0.2, epochs=6,verbose=0)\n",
        "plt.plot(mod1.history['loss'])\n",
        "plt.plot(mod1.history['val_loss'])\n",
        "plt.title('model loss')\n",
        "plt.ylabel('loss')\n",
        "plt.xlabel('epoch')\n",
        "plt.legend(['train', 'Validation'], loc='upper right')\n",
        "plt.show()\n",
        "train_acc1 = model1.evaluate(x_train,y_train)\n",
        "print('Train accuracy: ',round(train_acc1[1]*100,2),'%')\n",
        "test_acc1 = model1.evaluate(x_test,y_test)\n",
        "print('Test accuracy:',round(test_acc1[1]*100,2),'%')\n",
        "plt.imshow(x_test[5])\n",
        "prediction=model1.predict(x_test)\n",
        "print('\\n',np.argmax(prediction[5]),'\\n')\n",
        "d1={'Hidden_layer':2,'Activation':'R,S,S,So','Train_Accuracy':train_acc1[1],\n",
        "    'Test_Accuracy':test_acc1[1]}\n",
        "df=df.append(d1,ignore_index=True)"
      ],
      "metadata": {
        "id": "rxtPJmq-EbTG",
        "colab": {
          "base_uri": "https://localhost:8080/",
          "height": 682
        },
        "outputId": "9fc0d4cc-223c-45d1-d859-711e4790d2e5"
      },
      "execution_count": null,
      "outputs": [
        {
          "output_type": "display_data",
          "data": {
            "text/plain": [
              "<Figure size 432x288 with 1 Axes>"
            ],
            "image/png": "[encoded data removed]"
          },
          "metadata": {
            "needs_background": "light"
          }
        },
        {
          "output_type": "stream",
          "name": "stdout",
          "text": [
            "1875/1875 [==============================] - 4s 2ms/step - loss: 0.0454 - accuracy: 0.9873\n",
            "Train accuracy:  98.73 %\n",
            "313/313 [==============================] - 1s 2ms/step - loss: 0.0925 - accuracy: 0.9741\n",
            "Test accuracy: 97.41 %\n",
            "313/313 [==============================] - 1s 2ms/step\n",
            "\n",
            " 1 \n",
            "\n"
          ]
        },
        {
          "output_type": "display_data",
          "data": {
            "text/plain": [
              "<Figure size 432x288 with 1 Axes>"
            ],
            "image/png": "[encoded data removed]"
          },
          "metadata": {
            "needs_background": "light"
          }
        }
      ]
    },
    {
      "cell_type": "markdown",
      "source": [
        "# Model 2\n",
        "Hidden_layer = 3\n",
        "\n",
        "Activation_Function=S,S,So,S,So"
      ],
      "metadata": {
        "id": "R2Yg6R1bEbRG"
      }
    },
    {
      "cell_type": "code",
      "source": [
        "model2 = Sequential([\n",
        "        Flatten(input_shape=(28,28)),\n",
        "        Dense(130, activation='sigmoid'),\n",
        "        Dense(20, activation='sigmoid'),\n",
        "        Dense(55,activation='softmax'),\n",
        "        Dense(40, activation='sigmoid'),\n",
        "        Dense(10, activation='softmax')])\n",
        "model2.compile(optimizer='adam',loss='categorical_crossentropy',\n",
        "                                                 metrics=['accuracy'])\n",
        "mod2=model2.fit(x_train,y_train,validation_split=0.2, epochs=6,verbose=0)\n",
        "plt.plot(mod2.history['loss'])\n",
        "plt.plot(mod2.history['val_loss'])\n",
        "plt.title('model loss')\n",
        "plt.ylabel('loss')\n",
        "plt.xlabel('epoch')\n",
        "plt.legend(['train', 'Validation'], loc='upper right')\n",
        "plt.show()\n",
        "train_acc2 = model2.evaluate(x_train,y_train)\n",
        "print('Train accuracy: ',round(train_acc2[1]*100,2),'%')\n",
        "test_acc2 = model2.evaluate(x_test,y_test)\n",
        "print('Test accuracy:',round(test_acc2[1]*100,2),'%')\n",
        "plt.imshow(x_test[5])\n",
        "prediction=model2.predict(x_test)\n",
        "print('\\n',np.argmax(prediction[5]),'\\n')\n",
        "d2={'Hidden_layer':3,'Activation':'S,S,So,S,So','Train_Accuracy':train_acc2[1],\n",
        "    'Test_Accuracy':test_acc2[1]}\n",
        "df=df.append(d2,ignore_index=True)"
      ],
      "metadata": {
        "colab": {
          "base_uri": "https://localhost:8080/",
          "height": 682
        },
        "id": "-XMnguWIEbOn",
        "outputId": "9733ff2d-d72e-4b45-913e-1847cc4a8646"
      },
      "execution_count": null,
      "outputs": [
        {
          "output_type": "display_data",
          "data": {
            "text/plain": [
              "<Figure size 432x288 with 1 Axes>"
            ],
            "image/png": "[encoded data removed]"
          },
          "metadata": {
            "needs_background": "light"
          }
        },
        {
          "output_type": "stream",
          "name": "stdout",
          "text": [
            "1875/1875 [==============================] - 4s 2ms/step - loss: 0.2892 - accuracy: 0.9360\n",
            "Train accuracy:  93.6 %\n",
            "313/313 [==============================] - 1s 2ms/step - loss: 0.3430 - accuracy: 0.9259\n",
            "Test accuracy: 92.59 %\n",
            "313/313 [==============================] - 1s 2ms/step\n",
            "\n",
            " 1 \n",
            "\n"
          ]
        },
        {
          "output_type": "display_data",
          "data": {
            "text/plain": [
              "<Figure size 432x288 with 1 Axes>"
            ],
            "image/png": "[encoded data removed]"
          },
          "metadata": {
            "needs_background": "light"
          }
        }
      ]
    },
    {
      "cell_type": "markdown",
      "source": [
        "# Model 3\n",
        "Hidden_Layer = 5\n",
        "\n",
        "Activation_function = R,S,So,R,S,So,R"
      ],
      "metadata": {
        "id": "5thx9IHUtBfj"
      }
    },
    {
      "cell_type": "code",
      "source": [
        "model3 = Sequential([\n",
        "        Flatten(input_shape=(28,28)),\n",
        "        Dense(130, activation='relu'),\n",
        "        Dense(20, activation='sigmoid'),\n",
        "        Dense(55,activation='softmax'),\n",
        "        Dense(74,activation='relu'),\n",
        "        Dense(65,activation='sigmoid'),\n",
        "        Dense(40, activation='softmax'),\n",
        "        Dense(10, activation='relu')])\n",
        "model3.compile(optimizer='adam',loss='categorical_crossentropy',\n",
        "                                                 metrics=['accuracy'])\n",
        "mod3=model3.fit(x_train,y_train,validation_split=0.2, epochs=16,verbose=0)\n",
        "plt.plot(mod3.history['loss'])\n",
        "plt.plot(mod3.history['val_loss'])\n",
        "plt.title('model loss')\n",
        "plt.ylabel('loss')\n",
        "plt.xlabel('epoch')\n",
        "plt.legend(['train', 'Validation'], loc='upper right')\n",
        "plt.show()\n",
        "train_acc3 = model3.evaluate(x_train,y_train)\n",
        "print('Train accuracy: ',round(train_acc3[1]*100,2),'%')\n",
        "test_acc3 = model3.evaluate(x_test,y_test)\n",
        "print('Test accuracy:',round(test_acc3[1]*100,2),'%')\n",
        "plt.imshow(x_test[5])\n",
        "prediction=model3.predict(x_test)\n",
        "print('\\n',np.argmax(prediction[5]),'\\n')\n",
        "d3={'Hidden_layer':5,'Activation':'R,S,So,R,S,So,R','Train_Accuracy':train_acc3[1],\n",
        "    'Test_Accuracy':test_acc3[1]}\n",
        "df=df.append(d3,ignore_index=True)"
      ],
      "metadata": {
        "colab": {
          "base_uri": "https://localhost:8080/",
          "height": 682
        },
        "id": "isCj7tYSqVW3",
        "outputId": "985be3c6-9bf8-4663-c5a4-68e2a6e5cb1d"
      },
      "execution_count": null,
      "outputs": [
        {
          "output_type": "display_data",
          "data": {
            "text/plain": [
              "<Figure size 432x288 with 1 Axes>"
            ],
            "image/png": "[encoded data removed]"
          },
          "metadata": {
            "needs_background": "light"
          }
        },
        {
          "output_type": "stream",
          "name": "stdout",
          "text": [
            "1875/1875 [==============================] - 4s 2ms/step - loss: nan - accuracy: 0.0987\n",
            "Train accuracy:  9.87 %\n",
            "313/313 [==============================] - 1s 2ms/step - loss: nan - accuracy: 0.0980\n",
            "Test accuracy: 9.8 %\n",
            "313/313 [==============================] - 1s 2ms/step\n",
            "\n",
            " 0 \n",
            "\n"
          ]
        },
        {
          "output_type": "display_data",
          "data": {
            "text/plain": [
              "<Figure size 432x288 with 1 Axes>"
            ],
            "image/png": "[encoded data removed]"
          },
          "metadata": {
            "needs_background": "light"
          }
        }
      ]
    },
    {
      "cell_type": "markdown",
      "source": [
        "# Model 4\n",
        "Hidden_layer = 7\n",
        "\n",
        "Activation_function = R,S,R,So,R,S,So,R,S"
      ],
      "metadata": {
        "id": "ppL2IftIvHec"
      }
    },
    {
      "cell_type": "code",
      "source": [
        "from pandas._libs.tslibs.vectorized import dt64arr_to_periodarr\n",
        "model4 = Sequential([\n",
        "        Flatten(input_shape=(28,28)),\n",
        "        Dense(130, activation='relu'),\n",
        "        Dense(115,activation='sigmoid'),\n",
        "        Dense(98,activation='relu'),\n",
        "        Dense(20, activation='softmax'),\n",
        "        Dense(55,activation='relu'),\n",
        "        Dense(74,activation='sigmoid'),\n",
        "        Dense(65,activation='softmax'),\n",
        "        Dense(40, activation='relu'),\n",
        "        Dense(10, activation='sigmoid')])\n",
        "model4.compile(optimizer='adam',loss='categorical_crossentropy',\n",
        "                                                 metrics=['accuracy'])\n",
        "mod4=model4.fit(x_train,y_train,validation_split=0.2, epochs=6,verbose=0)\n",
        "plt.plot(mod4.history['loss'])\n",
        "plt.plot(mod4.history['val_loss'])\n",
        "plt.title('model loss')\n",
        "plt.ylabel('loss')\n",
        "plt.xlabel('epoch')\n",
        "plt.legend(['train', 'Validation'], loc='upper right')\n",
        "plt.show()\n",
        "train_acc4 = model4.evaluate(x_train,y_train)\n",
        "print('Train accuracy: ',round(train_acc4[1]*100,2),'%')\n",
        "test_acc4 = model4.evaluate(x_test,y_test)\n",
        "print('Test accuracy:',round(test_acc4[1]*100,2),'%')\n",
        "plt.imshow(x_test[5])\n",
        "prediction=model4.predict(x_test)\n",
        "print('\\n',np.argmax(prediction[5]),'\\n')\n",
        "d4={'Hidden_layer':7,'Activation':'R,S,R,So,R,S,So,R,S','Train_Accuracy':train_acc4[1],\n",
        "    'Test_Accuracy':test_acc4[1]}\n",
        "df=df.append(d4,ignore_index=True)"
      ],
      "metadata": {
        "colab": {
          "base_uri": "https://localhost:8080/",
          "height": 682
        },
        "id": "Hh72e4IgvGH9",
        "outputId": "c715c1c6-470f-4718-b808-4ab79a50d029"
      },
      "execution_count": null,
      "outputs": [
        {
          "output_type": "display_data",
          "data": {
            "text/plain": [
              "<Figure size 432x288 with 1 Axes>"
            ],
            "image/png": "[encoded data removed]"
          },
          "metadata": {
            "needs_background": "light"
          }
        },
        {
          "output_type": "stream",
          "name": "stdout",
          "text": [
            "1875/1875 [==============================] - 4s 2ms/step - loss: 0.1524 - accuracy: 0.9755\n",
            "Train accuracy:  97.55 %\n",
            "313/313 [==============================] - 1s 2ms/step - loss: 0.2372 - accuracy: 0.9626\n",
            "Test accuracy: 96.26 %\n",
            "313/313 [==============================] - 1s 2ms/step\n",
            "\n",
            " 1 \n",
            "\n"
          ]
        },
        {
          "output_type": "display_data",
          "data": {
            "text/plain": [
              "<Figure size 432x288 with 1 Axes>"
            ],
            "image/png": "[encoded data removed]"
          },
          "metadata": {
            "needs_background": "light"
          }
        }
      ]
    },
    {
      "cell_type": "code",
      "source": [
        "ind=['Model_1','Model_2','Model_3','Model_4']\n",
        "df['Models']=ind\n",
        "df=df.set_index('Models')\n",
        "display(df)"
      ],
      "metadata": {
        "colab": {
          "base_uri": "https://localhost:8080/",
          "height": 206
        },
        "id": "opejFBPrru3B",
        "outputId": "ab69b786-8712-4881-c271-674b47c7d118"
      },
      "execution_count": null,
      "outputs": [
        {
          "output_type": "display_data",
          "data": {
            "text/plain": [
              "        Hidden_layer           Activation  Train_Accuracy  Test_Accuracy\n",
              "Models                                                                  \n",
              "Model_1            2             R,S,S,So        0.987333         0.9741\n",
              "Model_2            3          S,S,So,S,So        0.935967         0.9259\n",
              "Model_3            5      R,S,So,R,S,So,R        0.098717         0.0980\n",
              "Model_4            7  R,S,R,So,R,S,So,R,S        0.975483         0.9626"
            ],
            "text/html": [
              "\n",
              "  <div id=\"df-bc3d785a-6fd1-4150-a651-efe087fa574a\">\n",
              "    <div class=\"colab-df-container\">\n",
              "      <div>\n",
              "<style scoped>\n",
              "    .dataframe tbody tr th:only-of-type {\n",
              "        vertical-align: middle;\n",
              "    }\n",
              "\n",
              "    .dataframe tbody tr th {\n",
              "        vertical-align: top;\n",
              "    }\n",
              "\n",
              "    .dataframe thead th {\n",
              "        text-align: right;\n",
              "    }\n",
              "</style>\n",
              "<table border=\"1\" class=\"dataframe\">\n",
              "  <thead>\n",
              "    <tr style=\"text-align: right;\">\n",
              "      <th></th>\n",
              "      <th>Hidden_layer</th>\n",
              "      <th>Activation</th>\n",
              "      <th>Train_Accuracy</th>\n",
              "      <th>Test_Accuracy</th>\n",
              "    </tr>\n",
              "    <tr>\n",
              "      <th>Models</th>\n",
              "      <th></th>\n",
              "      <th></th>\n",
              "      <th></th>\n",
              "      <th></th>\n",
              "    </tr>\n",
              "  </thead>\n",
              "  <tbody>\n",
              "    <tr>\n",
              "      <th>Model_1</th>\n",
              "      <td>2</td>\n",
              "      <td>R,S,S,So</td>\n",
              "      <td>0.987333</td>\n",
              "      <td>0.9741</td>\n",
              "    </tr>\n",
              "    <tr>\n",
              "      <th>Model_2</th>\n",
              "      <td>3</td>\n",
              "      <td>S,S,So,S,So</td>\n",
              "      <td>0.935967</td>\n",
              "      <td>0.9259</td>\n",
              "    </tr>\n",
              "    <tr>\n",
              "      <th>Model_3</th>\n",
              "      <td>5</td>\n",
              "      <td>R,S,So,R,S,So,R</td>\n",
              "      <td>0.098717</td>\n",
              "      <td>0.0980</td>\n",
              "    </tr>\n",
              "    <tr>\n",
              "      <th>Model_4</th>\n",
              "      <td>7</td>\n",
              "      <td>R,S,R,So,R,S,So,R,S</td>\n",
              "      <td>0.975483</td>\n",
              "      <td>0.9626</td>\n",
              "    </tr>\n",
              "  </tbody>\n",
              "</table>\n",
              "</div>\n",
              "      <button class=\"colab-df-convert\" onclick=\"convertToInteractive('df-bc3d785a-6fd1-4150-a651-efe087fa574a')\"\n",
              "              title=\"Convert this dataframe to an interactive table.\"\n",
              "              style=\"display:none;\">\n",
              "        \n",
              "  <svg xmlns=\"http://www.w3.org/2000/svg\" height=\"24px\"viewBox=\"0 0 24 24\"\n",
              "       width=\"24px\">\n",
              "    <path d=\"M0 0h24v24H0V0z\" fill=\"none\"/>\n",
              "    <path d=\"M18.56 5.44l.94 2.06.94-2.06 2.06-.94-2.06-.94-.94-2.06-.94 2.06-2.06.94zm-11 1L8.5 8.5l.94-2.06 2.06-.94-2.06-.94L8.5 2.5l-.94 2.06-2.06.94zm10 10l.94 2.06.94-2.06 2.06-.94-2.06-.94-.94-2.06-.94 2.06-2.06.94z\"/><path d=\"M17.41 7.96l-1.37-1.37c-.4-.4-.92-.59-1.43-.59-.52 0-1.04.2-1.43.59L10.3 9.45l-7.72 7.72c-.78.78-.78 2.05 0 2.83L4 21.41c.39.39.9.59 1.41.59.51 0 1.02-.2 1.41-.59l7.78-7.78 2.81-2.81c.8-.78.8-2.07 0-2.86zM5.41 20L4 18.59l7.72-7.72 1.47 1.35L5.41 20z\"/>\n",
              "  </svg>\n",
              "      </button>\n",
              "      \n",
              "  <style>\n",
              "    .colab-df-container {\n",
              "      display:flex;\n",
              "      flex-wrap:wrap;\n",
              "      gap: 12px;\n",
              "    }\n",
              "\n",
              "    .colab-df-convert {\n",
              "      background-color: #E8F0FE;\n",
              "      border: none;\n",
              "      border-radius: 50%;\n",
              "      cursor: pointer;\n",
              "      display: none;\n",
              "      fill: #1967D2;\n",
              "      height: 32px;\n",
              "      padding: 0 0 0 0;\n",
              "      width: 32px;\n",
              "    }\n",
              "\n",
              "    .colab-df-convert:hover {\n",
              "      background-color: #E2EBFA;\n",
              "      box-shadow: 0px 1px 2px rgba(60, 64, 67, 0.3), 0px 1px 3px 1px rgba(60, 64, 67, 0.15);\n",
              "      fill: #174EA6;\n",
              "    }\n",
              "\n",
              "    [theme=dark] .colab-df-convert {\n",
              "      background-color: #3B4455;\n",
              "      fill: #D2E3FC;\n",
              "    }\n",
              "\n",
              "    [theme=dark] .colab-df-convert:hover {\n",
              "      background-color: #434B5C;\n",
              "      box-shadow: 0px 1px 3px 1px rgba(0, 0, 0, 0.15);\n",
              "      filter: drop-shadow(0px 1px 2px rgba(0, 0, 0, 0.3));\n",
              "      fill: #FFFFFF;\n",
              "    }\n",
              "  </style>\n",
              "\n",
              "      <script>\n",
              "        const buttonEl =\n",
              "          document.querySelector('#df-bc3d785a-6fd1-4150-a651-efe087fa574a button.colab-df-convert');\n",
              "        buttonEl.style.display =\n",
              "          google.colab.kernel.accessAllowed ? 'block' : 'none';\n",
              "\n",
              "        async function convertToInteractive(key) {\n",
              "          const element = document.querySelector('#df-bc3d785a-6fd1-4150-a651-efe087fa574a');\n",
              "          const dataTable =\n",
              "            await google.colab.kernel.invokeFunction('convertToInteractive',\n",
              "                                                     [key], {});\n",
              "          if (!dataTable) return;\n",
              "\n",
              "          const docLinkHtml = 'Like what you see? Visit the ' +\n",
              "            '<a target=\"_blank\" href=https://colab.research.google.com/notebooks/data_table.ipynb>data table notebook</a>'\n",
              "            + ' to learn more about interactive tables.';\n",
              "          element.innerHTML = '';\n",
              "          dataTable['output_type'] = 'display_data';\n",
              "          await google.colab.output.renderOutput(dataTable, element);\n",
              "          const docLink = document.createElement('div');\n",
              "          docLink.innerHTML = docLinkHtml;\n",
              "          element.appendChild(docLink);\n",
              "        }\n",
              "      </script>\n",
              "    </div>\n",
              "  </div>\n",
              "  "
            ]
          },
          "metadata": {}
        }
      ]
    },
    {
      "cell_type": "markdown",
      "source": [
        "##Conclusion: From the above table we observe that our model 1 with 2 hidden layers and activation functions Relu,Sigmoid,Sigmoid,Softmax gave the most train accuracy of 98% and test accuracy of 97%.\n",
        "\n",
        "## But our model with 5 hidden layers and activation functions Relu, Sigmoid, Softmax, Relu, Sigmoid, Softmax, Relu gave the least training accuracy of 9.87% and test accuracy of 9.8%."
      ],
      "metadata": {
        "id": "Jhpa_TW13DrH"
      }
    },
    {
      "cell_type": "code",
      "source": [],
      "metadata": {
        "id": "DO01Q6vRlb6E"
      },
      "execution_count": null,
      "outputs": []
    }
  ]
}