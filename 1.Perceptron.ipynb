{
  "nbformat": 4,
  "nbformat_minor": 0,
  "metadata": {
    "colab": {
      "provenance": []
    },
    "kernelspec": {
      "name": "python3",
      "display_name": "Python 3"
    },
    "language_info": {
      "name": "python"
    }
  },
  "cells": [
    {
      "cell_type": "markdown",
      "source": [
        "# Implement Perceptron using Python\n",
        "\n",
        "## Aim: To implement perceptron to classify the given data using basic python.\n",
        "\n",
        "## Dataset: Numeric dataset with 2 classes."
      ],
      "metadata": {
        "id": "Nu31qIuzTk5Y"
      }
    },
    {
      "cell_type": "code",
      "source": [
        "# Importing required libraries\n",
        "import pandas as pd\n",
        "import random\n",
        "import numpy as np\n",
        "import math\n",
        "from statistics import mean,median\n",
        "from sklearn.metrics import accuracy_score\n",
        "from sklearn.model_selection import train_test_split\n",
        "import matplotlib.pyplot as plt"
      ],
      "metadata": {
        "id": "QxmoiDW0rKNh"
      },
      "execution_count": null,
      "outputs": []
    },
    {
      "cell_type": "code",
      "source": [
        "d=np.array([[1,0,1526,0],\n",
        "        [0,1,1487,1],\n",
        "        [0,0,1987,0],\n",
        "        [1,1,6543,1],\n",
        "        [1,0,7654,1],\n",
        "        [0,0,7864,1],\n",
        "        [1,1,2354,0],\n",
        "        [0,1,8765,0],\n",
        "        [1,0,2345,0],\n",
        "        [1,0,6523,1]])"
      ],
      "metadata": {
        "id": "7dxQstNerIVs"
      },
      "execution_count": null,
      "outputs": []
    },
    {
      "cell_type": "code",
      "source": [
        "len(d[0])"
      ],
      "metadata": {
        "colab": {
          "base_uri": "https://localhost:8080/"
        },
        "id": "hnCGpvy0itwb",
        "outputId": "c3783f61-a668-4a82-f27d-0ebda3e2b6e3"
      },
      "execution_count": null,
      "outputs": [
        {
          "output_type": "execute_result",
          "data": {
            "text/plain": [
              "4"
            ]
          },
          "metadata": {},
          "execution_count": 5
        }
      ]
    },
    {
      "cell_type": "code",
      "execution_count": null,
      "metadata": {
        "id": "VM9Gn85xp3FX"
      },
      "outputs": [],
      "source": [
        "class Perceptron:\n",
        "\n",
        "  def __init__(self,lr,iter,data):\n",
        "    self.lr=lr\n",
        "    self.iter=iter\n",
        "    self.data=data\n",
        "    self.bias=1\n",
        "    self.x=len(self.data) # 10\n",
        "    self.w=len(self.data[0]) # 4\n",
        "    self.input=[]\n",
        "    for i in range(self.x):\n",
        "      self.input.append(self.data[i,0:(self.w)-1])\n",
        "    #print(self.input)\n",
        "    self.target=[]\n",
        "    for i in range(self.x):\n",
        "      self.target.append(self.data[i,(self.w)-1])\n",
        "    #print(self.target)\n",
        "\n",
        "    # Initializing weights\n",
        "  def weights(self):\n",
        "    weights=[]\n",
        "    for i in range(self.w):\n",
        "      w1=round(random.uniform(0,0.5),2)\n",
        "      weights.append(w1)\n",
        "    bw=weights[0]\n",
        "    return weights,bw\n",
        "\n",
        "  # Net input\n",
        "  def net_input(self,weights,bw):\n",
        "    n=[]\n",
        "    b1=np.dot(self.bias,bw)\n",
        "    for i in range(self.x):\n",
        "      p=np.sum(np.dot(self.input[i],weights[1:4]))\n",
        "      n.append(round((p+b1),2))\n",
        "    #print(\"The net input is\",n)\n",
        "    l=np.min(n)\n",
        "    u=np.max(n)\n",
        "    threshold=round(random.uniform(l,u),2)\n",
        "    #print(f\"The threshold is {threshold}\")\n",
        "    return n,threshold\n",
        "\n",
        "  def act_func(self,net,threshold):\n",
        "    act=[]\n",
        "    for i in range(len(net)):\n",
        "      if net[i]>threshold:\n",
        "          act.append(1)\n",
        "      else:\n",
        "          act.append(0)\n",
        "    #print(\"The predicted output\",act)\n",
        "    return act\n",
        "\n",
        "  def error(self,act):\n",
        "    error=[]\n",
        "    j=0\n",
        "    for i in self.target:\n",
        "      if j>len(act)-1:\n",
        "        break\n",
        "      elif act[j]==i:\n",
        "        continue\n",
        "      else:\n",
        "        e=act[j]-i\n",
        "        error.append(e)\n",
        "      j+=1\n",
        "    return error\n",
        "\n",
        "  def adjd_error(self,error):\n",
        "    adj_error=error[0]*self.lr\n",
        "    #print(f\"Adjusted Error {adj_error}\")\n",
        "    return adj_error\n",
        "\n",
        "  def update_weights(self,adj_error,weights):\n",
        "    # Change in weights\n",
        "    c=[]\n",
        "    for i in weights:\n",
        "      c_i=np.dot(i,adj_error)\n",
        "      c.append(c_i)\n",
        "    #print(\"The change in weights\",c)\n",
        "    # Update weights\n",
        "    Upd_weights=[]\n",
        "    for i in range(4):\n",
        "      W=round(c[i]+weights[i],2)\n",
        "      Upd_weights.append(W)\n",
        "      ubw=Upd_weights[0]\n",
        "    #print(f\"The updated weights are {Upd_weights}\")\n",
        "    return Upd_weights,ubw\n",
        "\n",
        "  def fit(self):\n",
        "    accuracy=[]\n",
        "    for i in range(self.iter):\n",
        "      w,b=self.weights()\n",
        "      n,t=self.net_input(w,b)\n",
        "      a=self.act_func(n,t)\n",
        "      e=self.error(a)\n",
        "      ae=self.adjd_error(e)\n",
        "      uw,buw=self.update_weights(ae,w)\n",
        "      un,ut=self.net_input(uw,buw)\n",
        "      ua=self.act_func(un,ut)\n",
        "      acc=accuracy_score(self.target,ua)\n",
        "      accuracy.append(acc)\n",
        "    #print(accuracy)\n",
        "    return accuracy"
      ]
    },
    {
      "cell_type": "code",
      "source": [
        "p=Perceptron(0.02,20,d)\n",
        "y=p.fit()"
      ],
      "metadata": {
        "id": "xfeCyuG9rTOe"
      },
      "execution_count": null,
      "outputs": []
    },
    {
      "cell_type": "code",
      "source": [
        "x=range(0,20)\n",
        "plt.plot(x,y)\n",
        "plt.xlabel(\"No of Epochs\")\n",
        "plt.ylabel(\"Accuracy\")\n",
        "plt.show()"
      ],
      "metadata": {
        "colab": {
          "base_uri": "https://localhost:8080/",
          "height": 279
        },
        "id": "nnhtvry47tB9",
        "outputId": "963524de-6048-42b1-ecef-3fd2754ee13b"
      },
      "execution_count": null,
      "outputs": [
        {
          "output_type": "display_data",
          "data": {
            "text/plain": [
              "<Figure size 432x288 with 1 Axes>"
            ],
            "image/png": "[encoded data removed]"
          },
          "metadata": {
            "needs_background": "light"
          }
        }
      ]
    },
    {
      "cell_type": "markdown",
      "source": [
        "## Conclusion: From the graph we can observe that the there is a lot of variation in the accuracy, thus we need to optimize the network better."
      ],
      "metadata": {
        "id": "uvx8Uql2-BYQ"
      }
    }
  ]
}