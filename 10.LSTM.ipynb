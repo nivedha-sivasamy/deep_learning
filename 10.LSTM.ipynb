{
  "nbformat": 4,
  "nbformat_minor": 0,
  "metadata": {
    "colab": {
      "provenance": []
    },
    "kernelspec": {
      "name": "python3",
      "display_name": "Python 3"
    },
    "language_info": {
      "name": "python"
    }
  },
  "cells": [
    {
      "cell_type": "markdown",
      "source": [
        "# LSTM - Long Short Term Memory\n",
        "\n",
        "## Aim: To implement LSTM for text classification.\n",
        "\n",
        "### Dataset used: It is a news headlines dataset classified into 4 classes namely:\n",
        "  * politics         \n",
        "  * medical          \n",
        "  * entertainment    \n",
        "  * sports           "
      ],
      "metadata": {
        "id": "Dp2hqXv0Jona"
      }
    },
    {
      "cell_type": "code",
      "source": [
        "!pip install advertools -q"
      ],
      "metadata": {
        "id": "utRGbVmpk6IF",
        "colab": {
          "base_uri": "https://localhost:8080/"
        },
        "outputId": "845b20e5-aebf-4067-8e5e-1d63ac024a86"
      },
      "execution_count": null,
      "outputs": [
        {
          "output_type": "stream",
          "name": "stdout",
          "text": [
            "\u001b[2K     \u001b[90m━━━━━━━━━━━━━━━━━━━━━━━━━━━━━━━━━━━━━━━\u001b[0m \u001b[32m310.1/310.1 KB\u001b[0m \u001b[31m6.3 MB/s\u001b[0m eta \u001b[36m0:00:00\u001b[0m\n",
            "\u001b[2K     \u001b[90m━━━━━━━━━━━━━━━━━━━━━━━━━━━━━━━━━━━━━━\u001b[0m \u001b[32m272.9/272.9 KB\u001b[0m \u001b[31m16.9 MB/s\u001b[0m eta \u001b[36m0:00:00\u001b[0m\n",
            "\u001b[2K     \u001b[90m━━━━━━━━━━━━━━━━━━━━━━━━━━━━━━━━━━━━━━\u001b[0m \u001b[32m261.4/261.4 KB\u001b[0m \u001b[31m14.5 MB/s\u001b[0m eta \u001b[36m0:00:00\u001b[0m\n",
            "\u001b[2K     \u001b[90m━━━━━━━━━━━━━━━━━━━━━━━━━━━━━━━━━━━━━━━━\u001b[0m \u001b[32m4.2/4.2 MB\u001b[0m \u001b[31m58.8 MB/s\u001b[0m eta \u001b[36m0:00:00\u001b[0m\n",
            "\u001b[2K     \u001b[90m━━━━━━━━━━━━━━━━━━━━━━━━━━━━━━━━━━━━━━━━\u001b[0m \u001b[32m57.3/57.3 KB\u001b[0m \u001b[31m4.4 MB/s\u001b[0m eta \u001b[36m0:00:00\u001b[0m\n",
            "\u001b[2K     \u001b[90m━━━━━━━━━━━━━━━━━━━━━━━━━━━━━━━━━━━━━━━━\u001b[0m \u001b[32m93.9/93.9 KB\u001b[0m \u001b[31m8.3 MB/s\u001b[0m eta \u001b[36m0:00:00\u001b[0m\n",
            "\u001b[2K     \u001b[90m━━━━━━━━━━━━━━━━━━━━━━━━━━━━━━━━━━━━━━━━\u001b[0m \u001b[32m3.1/3.1 MB\u001b[0m \u001b[31m62.3 MB/s\u001b[0m eta \u001b[36m0:00:00\u001b[0m\n",
            "\u001b[2K     \u001b[90m━━━━━━━━━━━━━━━━━━━━━━━━━━━━━━━━━━━━━━━━\u001b[0m \u001b[32m74.6/74.6 KB\u001b[0m \u001b[31m11.1 MB/s\u001b[0m eta \u001b[36m0:00:00\u001b[0m\n",
            "\u001b[?25h"
          ]
        }
      ]
    },
    {
      "cell_type": "code",
      "source": [
        "!pip install contractions -q"
      ],
      "metadata": {
        "id": "rHlFct6Fk58O",
        "colab": {
          "base_uri": "https://localhost:8080/"
        },
        "outputId": "6a7a4079-914c-4fb7-dec9-d1189ed1866d"
      },
      "execution_count": null,
      "outputs": [
        {
          "output_type": "stream",
          "name": "stdout",
          "text": [
            "\u001b[?25l     \u001b[90m━━━━━━━━━━━━━━━━━━━━━━━━━━━━━━━━━━━━━━━━\u001b[0m \u001b[32m0.0/104.5 KB\u001b[0m \u001b[31m?\u001b[0m eta \u001b[36m-:--:--\u001b[0m\r\u001b[2K     \u001b[90m━━━━━━━━━━━━━━━━━━━━━━━━━━━━━━━━━━━━━━━\u001b[0m \u001b[32m104.5/104.5 KB\u001b[0m \u001b[31m4.4 MB/s\u001b[0m eta \u001b[36m0:00:00\u001b[0m\n",
            "\u001b[?25h\u001b[?25l     \u001b[90m━━━━━━━━━━━━━━━━━━━━━━━━━━━━━━━━━━━━━━━━\u001b[0m \u001b[32m0.0/287.5 KB\u001b[0m \u001b[31m?\u001b[0m eta \u001b[36m-:--:--\u001b[0m\r\u001b[2K     \u001b[90m━━━━━━━━━━━━━━━━━━━━━━━━━━━━━━━━━━━━━━\u001b[0m \u001b[32m287.5/287.5 KB\u001b[0m \u001b[31m15.1 MB/s\u001b[0m eta \u001b[36m0:00:00\u001b[0m\n",
            "\u001b[?25h"
          ]
        }
      ]
    },
    {
      "cell_type": "code",
      "source": [
        "!pip install clean-text -q"
      ],
      "metadata": {
        "id": "fICMb0rTk55F",
        "colab": {
          "base_uri": "https://localhost:8080/"
        },
        "outputId": "5f8e5fc2-2762-47cf-8ba3-a6db31e423bd"
      },
      "execution_count": null,
      "outputs": [
        {
          "output_type": "stream",
          "name": "stdout",
          "text": [
            "\u001b[?25l     \u001b[90m━━━━━━━━━━━━━━━━━━━━━━━━━━━━━━━━━━━━━━━━\u001b[0m \u001b[32m0.0/53.1 KB\u001b[0m \u001b[31m?\u001b[0m eta \u001b[36m-:--:--\u001b[0m\r\u001b[2K     \u001b[90m━━━━━━━━━━━━━━━━━━━━━━━━━━━━━━━━━━━━━━━━\u001b[0m \u001b[32m53.1/53.1 KB\u001b[0m \u001b[31m2.8 MB/s\u001b[0m eta \u001b[36m0:00:00\u001b[0m\n",
            "\u001b[?25h\u001b[?25l     \u001b[90m━━━━━━━━━━━━━━━━━━━━━━━━━━━━━━━━━━━━━━━━\u001b[0m \u001b[32m0.0/175.4 KB\u001b[0m \u001b[31m?\u001b[0m eta \u001b[36m-:--:--\u001b[0m\r\u001b[2K     \u001b[90m━━━━━━━━━━━━━━━━━━━━━━━━━━━━━━━━━━━━━━━\u001b[0m \u001b[32m175.4/175.4 KB\u001b[0m \u001b[31m8.7 MB/s\u001b[0m eta \u001b[36m0:00:00\u001b[0m\n",
            "\u001b[?25h  Preparing metadata (setup.py) ... \u001b[?25l\u001b[?25hdone\n",
            "  Building wheel for emoji (setup.py) ... \u001b[?25l\u001b[?25hdone\n"
          ]
        }
      ]
    },
    {
      "cell_type": "code",
      "source": [
        "import pandas as pd\n",
        "import nltk\n",
        "from nltk.corpus import stopwords\n",
        "from nltk.tokenize import word_tokenize\n",
        "import advertools as adv\n",
        "import re\n",
        "import contractions\n",
        "from cleantext import clean\n",
        "from sklearn.model_selection import train_test_split"
      ],
      "metadata": {
        "id": "ygaSxFVtlTDE",
        "colab": {
          "base_uri": "https://localhost:8080/"
        },
        "outputId": "41892b69-5b2d-41e9-baa0-9192776f02b2"
      },
      "execution_count": null,
      "outputs": [
        {
          "output_type": "stream",
          "name": "stderr",
          "text": [
            "WARNING:root:Since the GPL-licensed package `unidecode` is not installed, using Python's `unicodedata` package which yields worse results.\n"
          ]
        }
      ]
    },
    {
      "cell_type": "code",
      "source": [
        "nltk.download('stopwords')\n",
        "nltk.download('punkt')"
      ],
      "metadata": {
        "colab": {
          "base_uri": "https://localhost:8080/"
        },
        "id": "MniffSxDlOY3",
        "outputId": "eaf3bcf4-9b73-4c8b-86f4-4131a2e66464"
      },
      "execution_count": null,
      "outputs": [
        {
          "output_type": "stream",
          "name": "stderr",
          "text": [
            "[nltk_data] Downloading package stopwords to /root/nltk_data...\n",
            "[nltk_data]   Unzipping corpora/stopwords.zip.\n",
            "[nltk_data] Downloading package punkt to /root/nltk_data...\n",
            "[nltk_data]   Unzipping tokenizers/punkt.zip.\n"
          ]
        },
        {
          "output_type": "execute_result",
          "data": {
            "text/plain": [
              "True"
            ]
          },
          "metadata": {},
          "execution_count": 5
        }
      ]
    },
    {
      "cell_type": "code",
      "source": [],
      "metadata": {
        "id": "DBhEa62nlOT_"
      },
      "execution_count": null,
      "outputs": []
    },
    {
      "cell_type": "code",
      "execution_count": null,
      "metadata": {
        "id": "7hx5SPFojpI1"
      },
      "outputs": [],
      "source": [
        "import pandas as pd\n",
        "import numpy as np\n",
        "import keras\n",
        "from keras.preprocessing.text import Tokenizer\n",
        "from keras.utils import pad_sequences\n",
        "from keras.models import Sequential\n",
        "from keras.layers import Embedding, LSTM, Dense, Dropout\n",
        "from sklearn.preprocessing import OneHotEncoder\n",
        "from sklearn.model_selection import train_test_split"
      ]
    },
    {
      "cell_type": "code",
      "source": [
        "class Preprocess:\n",
        "\n",
        "  def __init__(self,text):\n",
        "    self.ltext=text.lower()\n",
        "    self.text=contractions.fix(self.ltext)\n",
        "    self.stop_words=set(adv.stopwords['english'])\n",
        "\n",
        "  def emoji(self):\n",
        "    e_txt=clean(self.text, no_emoji=True)\n",
        "    return e_txt\n",
        "\n",
        "  def remove_quotes_brackets(self,text):\n",
        "    self.text1=re.sub(\"[\\\"\\'\\(\\)]\", \"\", text)\n",
        "    return self.text1\n",
        "\n",
        "  def remove_punctuations(self,text):\n",
        "    text1=re.sub(r\"[^\\w\\s]\", \" \",text)\n",
        "    return text1\n",
        "\n",
        "  def tokenize(self,text):\n",
        "    self.t_text=word_tokenize(text)\n",
        "    return self.t_text\n",
        "\n",
        "  def stop_word(self,text):\n",
        "    self.sw=[]\n",
        "    for i in text:\n",
        "      if i not in self.stop_words:\n",
        "        self.sw.append(i)\n",
        "    return self.sw\n",
        "\n",
        "  def preprocess(self):\n",
        "    e_txt=self.emoji()\n",
        "    q_text=self.remove_quotes_brackets(e_txt)\n",
        "    p_text=self.remove_punctuations(q_text)\n",
        "    t_text=self.tokenize(p_text)\n",
        "    swtext=self.stop_word(t_text)\n",
        "    word=' '.join(swtext)\n",
        "    return word"
      ],
      "metadata": {
        "id": "h8mjFBPgldDe"
      },
      "execution_count": null,
      "outputs": []
    },
    {
      "cell_type": "code",
      "source": [
        "df = pd.read_excel(\"/content/drive/MyDrive/text_classification_dataset.xlsx\")\n",
        "df.head()"
      ],
      "metadata": {
        "colab": {
          "base_uri": "https://localhost:8080/",
          "height": 206
        },
        "id": "8A85zLNijwU2",
        "outputId": "a4d1a12b-1420-4f0b-818a-16c4f2e34b09"
      },
      "execution_count": null,
      "outputs": [
        {
          "output_type": "execute_result",
          "data": {
            "text/plain": [
              "                                                text    type\n",
              "0  @ACNI2012 @TheToka920 Never knew having 1 or 2...  sports\n",
              "1  MYCA Magical Moments:\\n\\nSeptember, 2011: Sham...  sports\n",
              "2  The current state of last year's @BBL finalist...  sports\n",
              "3         @HOLLYJISOO Why did you bring a cricket...  sports\n",
              "4  Babar Azam only Pakistani included in the ICC ...  sports"
            ],
            "text/html": [
              "\n",
              "  <div id=\"df-44092377-22c1-4763-a7ce-5a22f4a1c75d\">\n",
              "    <div class=\"colab-df-container\">\n",
              "      <div>\n",
              "<style scoped>\n",
              "    .dataframe tbody tr th:only-of-type {\n",
              "        vertical-align: middle;\n",
              "    }\n",
              "\n",
              "    .dataframe tbody tr th {\n",
              "        vertical-align: top;\n",
              "    }\n",
              "\n",
              "    .dataframe thead th {\n",
              "        text-align: right;\n",
              "    }\n",
              "</style>\n",
              "<table border=\"1\" class=\"dataframe\">\n",
              "  <thead>\n",
              "    <tr style=\"text-align: right;\">\n",
              "      <th></th>\n",
              "      <th>text</th>\n",
              "      <th>type</th>\n",
              "    </tr>\n",
              "  </thead>\n",
              "  <tbody>\n",
              "    <tr>\n",
              "      <th>0</th>\n",
              "      <td>@ACNI2012 @TheToka920 Never knew having 1 or 2...</td>\n",
              "      <td>sports</td>\n",
              "    </tr>\n",
              "    <tr>\n",
              "      <th>1</th>\n",
              "      <td>MYCA Magical Moments:\\n\\nSeptember, 2011: Sham...</td>\n",
              "      <td>sports</td>\n",
              "    </tr>\n",
              "    <tr>\n",
              "      <th>2</th>\n",
              "      <td>The current state of last year's @BBL finalist...</td>\n",
              "      <td>sports</td>\n",
              "    </tr>\n",
              "    <tr>\n",
              "      <th>3</th>\n",
              "      <td>@HOLLYJISOO Why did you bring a cricket...</td>\n",
              "      <td>sports</td>\n",
              "    </tr>\n",
              "    <tr>\n",
              "      <th>4</th>\n",
              "      <td>Babar Azam only Pakistani included in the ICC ...</td>\n",
              "      <td>sports</td>\n",
              "    </tr>\n",
              "  </tbody>\n",
              "</table>\n",
              "</div>\n",
              "      <button class=\"colab-df-convert\" onclick=\"convertToInteractive('df-44092377-22c1-4763-a7ce-5a22f4a1c75d')\"\n",
              "              title=\"Convert this dataframe to an interactive table.\"\n",
              "              style=\"display:none;\">\n",
              "        \n",
              "  <svg xmlns=\"http://www.w3.org/2000/svg\" height=\"24px\"viewBox=\"0 0 24 24\"\n",
              "       width=\"24px\">\n",
              "    <path d=\"M0 0h24v24H0V0z\" fill=\"none\"/>\n",
              "    <path d=\"M18.56 5.44l.94 2.06.94-2.06 2.06-.94-2.06-.94-.94-2.06-.94 2.06-2.06.94zm-11 1L8.5 8.5l.94-2.06 2.06-.94-2.06-.94L8.5 2.5l-.94 2.06-2.06.94zm10 10l.94 2.06.94-2.06 2.06-.94-2.06-.94-.94-2.06-.94 2.06-2.06.94z\"/><path d=\"M17.41 7.96l-1.37-1.37c-.4-.4-.92-.59-1.43-.59-.52 0-1.04.2-1.43.59L10.3 9.45l-7.72 7.72c-.78.78-.78 2.05 0 2.83L4 21.41c.39.39.9.59 1.41.59.51 0 1.02-.2 1.41-.59l7.78-7.78 2.81-2.81c.8-.78.8-2.07 0-2.86zM5.41 20L4 18.59l7.72-7.72 1.47 1.35L5.41 20z\"/>\n",
              "  </svg>\n",
              "      </button>\n",
              "      \n",
              "  <style>\n",
              "    .colab-df-container {\n",
              "      display:flex;\n",
              "      flex-wrap:wrap;\n",
              "      gap: 12px;\n",
              "    }\n",
              "\n",
              "    .colab-df-convert {\n",
              "      background-color: #E8F0FE;\n",
              "      border: none;\n",
              "      border-radius: 50%;\n",
              "      cursor: pointer;\n",
              "      display: none;\n",
              "      fill: #1967D2;\n",
              "      height: 32px;\n",
              "      padding: 0 0 0 0;\n",
              "      width: 32px;\n",
              "    }\n",
              "\n",
              "    .colab-df-convert:hover {\n",
              "      background-color: #E2EBFA;\n",
              "      box-shadow: 0px 1px 2px rgba(60, 64, 67, 0.3), 0px 1px 3px 1px rgba(60, 64, 67, 0.15);\n",
              "      fill: #174EA6;\n",
              "    }\n",
              "\n",
              "    [theme=dark] .colab-df-convert {\n",
              "      background-color: #3B4455;\n",
              "      fill: #D2E3FC;\n",
              "    }\n",
              "\n",
              "    [theme=dark] .colab-df-convert:hover {\n",
              "      background-color: #434B5C;\n",
              "      box-shadow: 0px 1px 3px 1px rgba(0, 0, 0, 0.15);\n",
              "      filter: drop-shadow(0px 1px 2px rgba(0, 0, 0, 0.3));\n",
              "      fill: #FFFFFF;\n",
              "    }\n",
              "  </style>\n",
              "\n",
              "      <script>\n",
              "        const buttonEl =\n",
              "          document.querySelector('#df-44092377-22c1-4763-a7ce-5a22f4a1c75d button.colab-df-convert');\n",
              "        buttonEl.style.display =\n",
              "          google.colab.kernel.accessAllowed ? 'block' : 'none';\n",
              "\n",
              "        async function convertToInteractive(key) {\n",
              "          const element = document.querySelector('#df-44092377-22c1-4763-a7ce-5a22f4a1c75d');\n",
              "          const dataTable =\n",
              "            await google.colab.kernel.invokeFunction('convertToInteractive',\n",
              "                                                     [key], {});\n",
              "          if (!dataTable) return;\n",
              "\n",
              "          const docLinkHtml = 'Like what you see? Visit the ' +\n",
              "            '<a target=\"_blank\" href=https://colab.research.google.com/notebooks/data_table.ipynb>data table notebook</a>'\n",
              "            + ' to learn more about interactive tables.';\n",
              "          element.innerHTML = '';\n",
              "          dataTable['output_type'] = 'display_data';\n",
              "          await google.colab.output.renderOutput(dataTable, element);\n",
              "          const docLink = document.createElement('div');\n",
              "          docLink.innerHTML = docLinkHtml;\n",
              "          element.appendChild(docLink);\n",
              "        }\n",
              "      </script>\n",
              "    </div>\n",
              "  </div>\n",
              "  "
            ]
          },
          "metadata": {},
          "execution_count": 8
        }
      ]
    },
    {
      "cell_type": "code",
      "source": [
        "df.info()"
      ],
      "metadata": {
        "colab": {
          "base_uri": "https://localhost:8080/"
        },
        "id": "R2yZA4tHkQRE",
        "outputId": "24e6530c-d0b7-4dc3-83c0-1124762dd794"
      },
      "execution_count": null,
      "outputs": [
        {
          "output_type": "stream",
          "name": "stdout",
          "text": [
            "<class 'pandas.core.frame.DataFrame'>\n",
            "RangeIndex: 1162 entries, 0 to 1161\n",
            "Data columns (total 2 columns):\n",
            " #   Column  Non-Null Count  Dtype \n",
            "---  ------  --------------  ----- \n",
            " 0   text    1162 non-null   object\n",
            " 1   type    1162 non-null   object\n",
            "dtypes: object(2)\n",
            "memory usage: 18.3+ KB\n"
          ]
        }
      ]
    },
    {
      "cell_type": "code",
      "source": [
        "df['type'].value_counts()"
      ],
      "metadata": {
        "colab": {
          "base_uri": "https://localhost:8080/"
        },
        "id": "_WKju6fRoPJ-",
        "outputId": "895fb1cf-ed2c-4a0f-e435-d0e90ee98941"
      },
      "execution_count": null,
      "outputs": [
        {
          "output_type": "execute_result",
          "data": {
            "text/plain": [
              "politics         345\n",
              "medical          299\n",
              "entertainment    260\n",
              "sports           258\n",
              "Name: type, dtype: int64"
            ]
          },
          "metadata": {},
          "execution_count": 10
        }
      ]
    },
    {
      "cell_type": "code",
      "source": [
        "def text(text):\n",
        "  s=Preprocess(text)\n",
        "  return s.preprocess()"
      ],
      "metadata": {
        "id": "4gcEoR82luRo"
      },
      "execution_count": null,
      "outputs": []
    },
    {
      "cell_type": "code",
      "source": [
        "df['preprocess']=df['text'].apply(text)"
      ],
      "metadata": {
        "id": "yRaUZEMVkewi"
      },
      "execution_count": null,
      "outputs": []
    },
    {
      "cell_type": "code",
      "source": [
        "X=df['preprocess']"
      ],
      "metadata": {
        "id": "qGxMZUWsmYKA"
      },
      "execution_count": null,
      "outputs": []
    },
    {
      "cell_type": "code",
      "source": [
        "Y=df['type']"
      ],
      "metadata": {
        "id": "5qirtj42kkbm"
      },
      "execution_count": null,
      "outputs": []
    },
    {
      "cell_type": "code",
      "source": [
        "Y = pd.get_dummies(df['type']).values\n",
        "print('Shape of label tensor:', Y.shape)"
      ],
      "metadata": {
        "colab": {
          "base_uri": "https://localhost:8080/"
        },
        "id": "ZVz2XYafnGDS",
        "outputId": "84254c7d-4a62-4ad0-c566-9ca8165d436c"
      },
      "execution_count": null,
      "outputs": [
        {
          "output_type": "stream",
          "name": "stdout",
          "text": [
            "Shape of label tensor: (1162, 4)\n"
          ]
        }
      ]
    },
    {
      "cell_type": "code",
      "source": [
        "x_train,x_test,y_train,y_test=train_test_split(X,Y,test_size=0.3)"
      ],
      "metadata": {
        "id": "1I5r9WDKnDia"
      },
      "execution_count": null,
      "outputs": []
    },
    {
      "cell_type": "code",
      "source": [
        "token = Tokenizer()\n",
        "token.fit_on_texts(x_train)\n",
        "sequence = token.texts_to_sequences(x_train)\n",
        "sequence_matrix = pad_sequences(sequence)"
      ],
      "metadata": {
        "id": "umnCsxookrPr"
      },
      "execution_count": null,
      "outputs": []
    },
    {
      "cell_type": "code",
      "source": [
        "size = len(token.word_index)\n",
        "size"
      ],
      "metadata": {
        "colab": {
          "base_uri": "https://localhost:8080/"
        },
        "id": "PdbbivrmmxHb",
        "outputId": "23dda76f-fd3c-4f09-fd83-6275b5acbec0"
      },
      "execution_count": null,
      "outputs": [
        {
          "output_type": "execute_result",
          "data": {
            "text/plain": [
              "5172"
            ]
          },
          "metadata": {},
          "execution_count": 18
        }
      ]
    },
    {
      "cell_type": "code",
      "source": [
        "# Model\n",
        "\n",
        "model = Sequential()\n",
        "model.add(Embedding(input_dim= size+1,output_dim= 100))\n",
        "model.add(LSTM(64,activation='tanh'))\n",
        "model.add(Dropout(0.2))\n",
        "model.add(Dense(150,activation='tanh'))\n",
        "# model.add(Dense(80,activation='tanh'))\n",
        "# model.add(Dense(15,activation='tanh'))\n",
        "\n",
        "model.add(Dense(4,activation='softmax'))\n",
        "\n",
        "model.summary()"
      ],
      "metadata": {
        "colab": {
          "base_uri": "https://localhost:8080/"
        },
        "id": "zSFotJUumykX",
        "outputId": "243b7ece-3dbc-4b53-c584-9f4141208eab"
      },
      "execution_count": null,
      "outputs": [
        {
          "output_type": "stream",
          "name": "stdout",
          "text": [
            "Model: \"sequential\"\n",
            "_________________________________________________________________\n",
            " Layer (type)                Output Shape              Param #   \n",
            "=================================================================\n",
            " embedding (Embedding)       (None, None, 100)         517300    \n",
            "                                                                 \n",
            " lstm (LSTM)                 (None, 64)                42240     \n",
            "                                                                 \n",
            " dropout (Dropout)           (None, 64)                0         \n",
            "                                                                 \n",
            " dense (Dense)               (None, 150)               9750      \n",
            "                                                                 \n",
            " dense_1 (Dense)             (None, 4)                 604       \n",
            "                                                                 \n",
            "=================================================================\n",
            "Total params: 569,894\n",
            "Trainable params: 569,894\n",
            "Non-trainable params: 0\n",
            "_________________________________________________________________\n"
          ]
        }
      ]
    },
    {
      "cell_type": "code",
      "source": [
        "model.compile(loss='categorical_crossentropy',optimizer='adam',metrics=['accuracy'])\n",
        "\n",
        "history=model.fit(sequence_matrix,y_train,batch_size=80,epochs=15,validation_split=0.3)"
      ],
      "metadata": {
        "colab": {
          "base_uri": "https://localhost:8080/"
        },
        "id": "5maj5tDSm303",
        "outputId": "5f2cebc2-660c-4004-b6fb-f41a947136bc"
      },
      "execution_count": null,
      "outputs": [
        {
          "output_type": "stream",
          "name": "stdout",
          "text": [
            "Epoch 1/15\n",
            "8/8 [==============================] - 4s 118ms/step - loss: 1.3800 - accuracy: 0.3409 - val_loss: 1.3795 - val_accuracy: 0.2910\n",
            "Epoch 2/15\n",
            "8/8 [==============================] - 0s 38ms/step - loss: 1.3472 - accuracy: 0.3146 - val_loss: 1.3648 - val_accuracy: 0.2787\n",
            "Epoch 3/15\n",
            "8/8 [==============================] - 0s 42ms/step - loss: 1.2620 - accuracy: 0.5097 - val_loss: 1.3109 - val_accuracy: 0.4344\n",
            "Epoch 4/15\n",
            "8/8 [==============================] - 0s 36ms/step - loss: 1.0006 - accuracy: 0.7750 - val_loss: 1.1248 - val_accuracy: 0.5246\n",
            "Epoch 5/15\n",
            "8/8 [==============================] - 0s 41ms/step - loss: 0.5346 - accuracy: 0.9104 - val_loss: 0.9324 - val_accuracy: 0.6598\n",
            "Epoch 6/15\n",
            "8/8 [==============================] - 0s 37ms/step - loss: 0.2066 - accuracy: 0.9947 - val_loss: 0.9987 - val_accuracy: 0.6230\n",
            "Epoch 7/15\n",
            "8/8 [==============================] - 0s 46ms/step - loss: 0.0501 - accuracy: 0.9982 - val_loss: 0.7105 - val_accuracy: 0.7623\n",
            "Epoch 8/15\n",
            "8/8 [==============================] - 1s 65ms/step - loss: 0.0164 - accuracy: 1.0000 - val_loss: 0.9308 - val_accuracy: 0.7418\n",
            "Epoch 9/15\n",
            "8/8 [==============================] - 0s 63ms/step - loss: 0.0065 - accuracy: 1.0000 - val_loss: 0.7832 - val_accuracy: 0.7746\n",
            "Epoch 10/15\n",
            "8/8 [==============================] - 1s 65ms/step - loss: 0.0037 - accuracy: 1.0000 - val_loss: 0.8608 - val_accuracy: 0.7459\n",
            "Epoch 11/15\n",
            "8/8 [==============================] - 1s 68ms/step - loss: 0.0024 - accuracy: 1.0000 - val_loss: 0.8467 - val_accuracy: 0.7582\n",
            "Epoch 12/15\n",
            "8/8 [==============================] - 1s 67ms/step - loss: 0.0019 - accuracy: 1.0000 - val_loss: 0.9369 - val_accuracy: 0.7377\n",
            "Epoch 13/15\n",
            "8/8 [==============================] - 1s 70ms/step - loss: 0.0038 - accuracy: 1.0000 - val_loss: 0.7925 - val_accuracy: 0.7541\n",
            "Epoch 14/15\n",
            "8/8 [==============================] - 0s 39ms/step - loss: 0.0022 - accuracy: 1.0000 - val_loss: 0.8320 - val_accuracy: 0.7664\n",
            "Epoch 15/15\n",
            "8/8 [==============================] - 0s 40ms/step - loss: 0.0016 - accuracy: 1.0000 - val_loss: 0.8323 - val_accuracy: 0.7623\n"
          ]
        }
      ]
    },
    {
      "cell_type": "code",
      "source": [
        "token = Tokenizer()\n",
        "token.fit_on_texts(x_test)\n",
        "sequence = token.texts_to_sequences(x_test)\n",
        "seq_mat = pad_sequences(sequence)"
      ],
      "metadata": {
        "id": "pBUcRfeSnO4c"
      },
      "execution_count": null,
      "outputs": []
    },
    {
      "cell_type": "code",
      "source": [
        "model.evaluate(seq_mat,y_test)"
      ],
      "metadata": {
        "colab": {
          "base_uri": "https://localhost:8080/"
        },
        "id": "l1YcXM4Dnvs2",
        "outputId": "47f51375-ee40-49e1-a6d4-7009e82bdd04"
      },
      "execution_count": null,
      "outputs": [
        {
          "output_type": "stream",
          "name": "stdout",
          "text": [
            "11/11 [==============================] - 0s 6ms/step - loss: 4.0733 - accuracy: 0.2980\n"
          ]
        },
        {
          "output_type": "execute_result",
          "data": {
            "text/plain": [
              "[4.073320388793945, 0.2979942560195923]"
            ]
          },
          "metadata": {},
          "execution_count": 22
        }
      ]
    },
    {
      "cell_type": "code",
      "source": [
        "pred = model.predict(seq_mat)"
      ],
      "metadata": {
        "colab": {
          "base_uri": "https://localhost:8080/"
        },
        "id": "VHJcGW-znymE",
        "outputId": "8eee48fd-3003-40c0-da0f-b618f053912b"
      },
      "execution_count": null,
      "outputs": [
        {
          "output_type": "stream",
          "name": "stdout",
          "text": [
            "11/11 [==============================] - 0s 6ms/step\n"
          ]
        }
      ]
    },
    {
      "cell_type": "code",
      "source": [
        "# print(y_test[2])\n",
        "print(np.argmax(pred,axis=1))"
      ],
      "metadata": {
        "colab": {
          "base_uri": "https://localhost:8080/"
        },
        "id": "0ZmxsRlLn06D",
        "outputId": "659d6d7c-2895-454a-e848-46907c781675"
      },
      "execution_count": null,
      "outputs": [
        {
          "output_type": "stream",
          "name": "stdout",
          "text": [
            "[3 1 3 2 3 2 3 2 0 2 2 2 0 0 2 3 2 2 1 1 2 1 2 1 2 3 2 2 2 1 2 3 3 2 3 1 0\n",
            " 2 1 1 0 3 2 2 3 3 2 3 2 1 1 1 3 3 2 1 2 2 3 3 2 2 2 1 2 1 3 3 3 1 1 2 2 2\n",
            " 2 1 2 2 2 3 1 0 0 2 2 1 2 2 2 0 2 3 2 0 2 2 1 0 2 3 1 0 1 3 0 0 2 1 0 2 0\n",
            " 2 2 0 1 2 2 1 3 1 0 2 3 1 3 2 0 1 2 0 2 0 1 2 0 2 0 2 2 0 1 1 0 0 2 0 0 2\n",
            " 2 2 2 1 0 1 2 0 1 1 3 0 0 1 2 3 3 2 1 1 2 2 2 2 2 1 0 3 2 0 1 3 2 2 0 0 2\n",
            " 2 0 2 0 2 2 2 2 3 2 1 1 3 2 1 2 0 1 3 2 0 3 2 2 2 1 0 3 0 0 1 1 2 0 0 0 2\n",
            " 2 3 2 3 2 0 1 2 1 2 3 0 0 3 0 0 2 0 2 2 2 2 3 2 1 2 2 1 2 2 0 2 1 2 3 2 1\n",
            " 2 0 3 2 3 2 2 1 1 1 2 3 2 1 2 2 2 2 2 2 0 2 2 1 2 2 2 2 0 2 0 2 3 2 0 2 1\n",
            " 0 1 2 2 2 0 0 1 0 3 3 0 0 2 2 0 1 0 1 2 2 2 2 3 1 3 0 2 2 2 2 2 1 2 2 3 3\n",
            " 0 3 3 2 3 3 1 0 2 2 1 3 2 2 1 1]\n"
          ]
        }
      ]
    },
    {
      "cell_type": "code",
      "source": [
        "import matplotlib.pyplot as plt\n",
        "plt.plot(history.history['loss'])\n",
        "plt.plot(history.history['val_loss'])\n",
        "plt.legend(['Train loss','Validation Loss'])\n",
        "plt.title('Train loss vs Validation loss',fontsize=20)\n",
        "plt.show()"
      ],
      "metadata": {
        "id": "QMAlENl8oJxj",
        "colab": {
          "base_uri": "https://localhost:8080/",
          "height": 286
        },
        "outputId": "d34ae64f-d292-4f18-a0cc-2c3411264719"
      },
      "execution_count": null,
      "outputs": [
        {
          "output_type": "display_data",
          "data": {
            "text/plain": [
              "<Figure size 432x288 with 1 Axes>"
            ],
            "image/png": "[encoded data removed]"
          },
          "metadata": {
            "needs_background": "light"
          }
        }
      ]
    },
    {
      "cell_type": "code",
      "source": [
        "plt.plot(history.history['accuracy'])\n",
        "plt.plot(history.history['val_accuracy'])\n",
        "plt.legend(['Train accuracy','Validation accuracy'])\n",
        "plt.title('Train accuracy vs Validation accuracy',fontsize=20)\n",
        "plt.show()"
      ],
      "metadata": {
        "colab": {
          "base_uri": "https://localhost:8080/",
          "height": 286
        },
        "id": "mAdME2O0tixU",
        "outputId": "e831fcda-ea35-4e5a-9d55-8c64b7c3a87b"
      },
      "execution_count": null,
      "outputs": [
        {
          "output_type": "display_data",
          "data": {
            "text/plain": [
              "<Figure size 432x288 with 1 Axes>"
            ],
            "image/png": "[encoded data removed]"
          },
          "metadata": {
            "needs_background": "light"
          }
        }
      ]
    },
    {
      "cell_type": "markdown",
      "source": [
        "## Conclusion: The model has a train accuracy of 99%, validation accuracy of 76% and test accuracy of 30% which indiactes that the model is overfitting. Thus the model is not able to classify the new text correctly. The model needs to be further tuned for best fit."
      ],
      "metadata": {
        "id": "337YMc8xtNS2"
      }
    },
    {
      "cell_type": "code",
      "source": [],
      "metadata": {
        "id": "G3HfRVTGKJMt"
      },
      "execution_count": null,
      "outputs": []
    }
  ]
}