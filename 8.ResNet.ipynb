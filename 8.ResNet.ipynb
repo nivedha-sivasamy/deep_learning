{
  "nbformat": 4,
  "nbformat_minor": 0,
  "metadata": {
    "colab": {
      "provenance": []
    },
    "kernelspec": {
      "name": "python3",
      "display_name": "Python 3"
    },
    "language_info": {
      "name": "python"
    }
  },
  "cells": [
    {
      "cell_type": "markdown",
      "source": [
        "# Pretrained Models\n",
        "\n",
        "## Aim: To implement a pretrained model for multi-class image classification.\n",
        "\n",
        "### Dataset used: Images of animals belonging to 3 classes namely\n",
        "  * Cats\n",
        "  * Dogs\n",
        "  * Tiger"
      ],
      "metadata": {
        "id": "tayEEmL9ASEX"
      }
    },
    {
      "cell_type": "code",
      "source": [
        "from google.colab import drive\n",
        "drive.mount('/content/drive')"
      ],
      "metadata": {
        "colab": {
          "base_uri": "https://localhost:8080/"
        },
        "id": "vK-C685yRyDa",
        "outputId": "8ca9614f-11a0-4b41-b0ba-86d2c9c75165"
      },
      "execution_count": null,
      "outputs": [
        {
          "output_type": "stream",
          "name": "stdout",
          "text": [
            "Mounted at /content/drive\n"
          ]
        }
      ]
    },
    {
      "cell_type": "code",
      "execution_count": null,
      "metadata": {
        "id": "W9L1ux56RiPk"
      },
      "outputs": [],
      "source": [
        "import os\n",
        "import glob as gb\n",
        "import numpy as np\n",
        "from keras.preprocessing.image import ImageDataGenerator\n",
        "import tensorflow.keras as keras\n",
        "from keras import layers\n",
        "from keras.layers import Input, Dense, Activation,BatchNormalization\n",
        "from keras.layers import Flatten, Conv2D, MaxPooling2D,Dropout\n",
        "from keras.models import Model,Sequential\n",
        "from keras.preprocessing.image import ImageDataGenerator\n",
        "import matplotlib.pyplot as plt\n",
        "from matplotlib.pyplot import imshow\n",
        "from tensorflow.keras.utils import plot_model\n",
        "from collections import Counter"
      ]
    },
    {
      "cell_type": "code",
      "source": [
        "train_dir=\"/content/drive/MyDrive/classify/train\"\n",
        "test_dir=\"/content/drive/MyDrive/classify/test\"\n",
        "val_dir=\"/content/drive/MyDrive/classify/val\""
      ],
      "metadata": {
        "id": "xoFa0scxR7Hm"
      },
      "execution_count": null,
      "outputs": []
    },
    {
      "cell_type": "code",
      "source": [
        "datagen = ImageDataGenerator()\n",
        "train_data=datagen.flow_from_directory(train_dir,\n",
        "                                       target_size=(150,150),\n",
        "                                       batch_size=250,\n",
        "                                       shuffle=True,\n",
        "                                       class_mode='categorical')\n",
        "\n",
        "test_data=datagen.flow_from_directory(test_dir,\n",
        "                                       target_size=(150,150),\n",
        "                                       batch_size=50,\n",
        "                                       shuffle=True,\n",
        "                                       class_mode='categorical')\n",
        "test,label=test_data.next()\n",
        "val_data=datagen.flow_from_directory(val_dir,\n",
        "                                       target_size=(150,150),\n",
        "                                       batch_size=100,\n",
        "                                       shuffle=True,\n",
        "                                       class_mode='categorical')"
      ],
      "metadata": {
        "colab": {
          "base_uri": "https://localhost:8080/"
        },
        "id": "LYZkpCCpSqsA",
        "outputId": "30273636-dc24-440c-9e97-549c5e7c36f6"
      },
      "execution_count": null,
      "outputs": [
        {
          "output_type": "stream",
          "name": "stdout",
          "text": [
            "Found 298 images belonging to 3 classes.\n",
            "Found 67 images belonging to 3 classes.\n",
            "Found 63 images belonging to 3 classes.\n"
          ]
        }
      ]
    },
    {
      "cell_type": "code",
      "source": [
        "print(train_data.class_indices)\n",
        "Counter(train_data.classes)"
      ],
      "metadata": {
        "colab": {
          "base_uri": "https://localhost:8080/"
        },
        "id": "L8HkebfCTkkb",
        "outputId": "c67bbe8f-b1d2-439c-e090-75b0d443f0b3"
      },
      "execution_count": null,
      "outputs": [
        {
          "output_type": "stream",
          "name": "stdout",
          "text": [
            "{'cats': 0, 'dogs': 1, 'tiger': 2}\n"
          ]
        },
        {
          "output_type": "execute_result",
          "data": {
            "text/plain": [
              "Counter({0: 125, 1: 68, 2: 105})"
            ]
          },
          "metadata": {},
          "execution_count": 5
        }
      ]
    },
    {
      "cell_type": "code",
      "source": [
        "print(test_data.class_indices)\n",
        "Counter(test_data.classes)"
      ],
      "metadata": {
        "colab": {
          "base_uri": "https://localhost:8080/"
        },
        "id": "wOHtyb9fTmjD",
        "outputId": "d1749287-458c-4bf3-8091-d08ad72afc30"
      },
      "execution_count": null,
      "outputs": [
        {
          "output_type": "stream",
          "name": "stdout",
          "text": [
            "{'cats': 0, 'dogs': 1, 'tiger': 2}\n"
          ]
        },
        {
          "output_type": "execute_result",
          "data": {
            "text/plain": [
              "Counter({0: 28, 1: 16, 2: 23})"
            ]
          },
          "metadata": {},
          "execution_count": 6
        }
      ]
    },
    {
      "cell_type": "code",
      "source": [
        "print(val_data.class_indices)\n",
        "Counter(val_data.classes)"
      ],
      "metadata": {
        "colab": {
          "base_uri": "https://localhost:8080/"
        },
        "id": "56PUWzKqUCIv",
        "outputId": "081a0f93-8afb-44b5-9285-b2ec74c14581"
      },
      "execution_count": null,
      "outputs": [
        {
          "output_type": "stream",
          "name": "stdout",
          "text": [
            "{'cats': 0, 'dogs': 1, 'tiger': 2}\n"
          ]
        },
        {
          "output_type": "execute_result",
          "data": {
            "text/plain": [
              "Counter({0: 27, 1: 14, 2: 22})"
            ]
          },
          "metadata": {},
          "execution_count": 7
        }
      ]
    },
    {
      "cell_type": "code",
      "source": [
        "import tensorflow as tf\n",
        "model = Sequential()\n",
        "pretrained_model_for_demo= tf.keras.applications.ResNet50(\n",
        "    include_top=False,\n",
        "    input_shape=(150,150,3),\n",
        "    pooling='avg',\n",
        "    classes=3,\n",
        "    weights='imagenet')\n",
        "for each_layer in pretrained_model_for_demo.layers:\n",
        "  each_layer.trainable=False\n",
        "model.add(pretrained_model_for_demo)\n",
        "model.add(Flatten())\n",
        "model.add(Dense(512, activation='relu'))\n",
        "model.add(Dense(3, activation='softmax'))"
      ],
      "metadata": {
        "id": "nVbDfyShUEIU",
        "colab": {
          "base_uri": "https://localhost:8080/"
        },
        "outputId": "62db1e48-19aa-463e-ea38-15fed9738db3"
      },
      "execution_count": null,
      "outputs": [
        {
          "output_type": "stream",
          "name": "stdout",
          "text": [
            "Downloading data from https://storage.googleapis.com/tensorflow/keras-applications/resnet/resnet50_weights_tf_dim_ordering_tf_kernels_notop.h5\n",
            "94765736/94765736 [==============================] - 1s 0us/step\n"
          ]
        }
      ]
    },
    {
      "cell_type": "code",
      "source": [
        "model.compile(optimizer='adam',loss='categorical_crossentropy',\n",
        "              metrics=['accuracy'])"
      ],
      "metadata": {
        "id": "eJPU5KXkUNwj"
      },
      "execution_count": null,
      "outputs": []
    },
    {
      "cell_type": "code",
      "source": [
        "history = model.fit(train_data,epochs=20,validation_data=val_data,\n",
        "                              verbose=1)"
      ],
      "metadata": {
        "colab": {
          "base_uri": "https://localhost:8080/"
        },
        "id": "6zwvdGa5UQHl",
        "outputId": "001d7f70-3207-40a5-d082-0fb9ed759921"
      },
      "execution_count": null,
      "outputs": [
        {
          "output_type": "stream",
          "name": "stdout",
          "text": [
            "Epoch 1/20\n",
            "2/2 [==============================] - 51s 37s/step - loss: 5.3307 - accuracy: 0.4262 - val_loss: 1.2221 - val_accuracy: 0.6190\n",
            "Epoch 2/20\n",
            "2/2 [==============================] - 23s 7s/step - loss: 1.2606 - accuracy: 0.6644 - val_loss: 2.2104 - val_accuracy: 0.5238\n",
            "Epoch 3/20\n",
            "2/2 [==============================] - 25s 22s/step - loss: 1.6064 - accuracy: 0.6208 - val_loss: 0.5472 - val_accuracy: 0.7778\n",
            "Epoch 4/20\n",
            "2/2 [==============================] - 25s 22s/step - loss: 0.2520 - accuracy: 0.9027 - val_loss: 0.1902 - val_accuracy: 0.9206\n",
            "Epoch 5/20\n",
            "2/2 [==============================] - 25s 21s/step - loss: 0.3125 - accuracy: 0.8826 - val_loss: 0.6383 - val_accuracy: 0.7937\n",
            "Epoch 6/20\n",
            "2/2 [==============================] - 24s 8s/step - loss: 0.4253 - accuracy: 0.8557 - val_loss: 0.6268 - val_accuracy: 0.7937\n",
            "Epoch 7/20\n",
            "2/2 [==============================] - 25s 8s/step - loss: 0.3582 - accuracy: 0.8691 - val_loss: 0.3289 - val_accuracy: 0.8571\n",
            "Epoch 8/20\n",
            "2/2 [==============================] - 25s 8s/step - loss: 0.1571 - accuracy: 0.9396 - val_loss: 0.1516 - val_accuracy: 0.9206\n",
            "Epoch 9/20\n",
            "2/2 [==============================] - 25s 22s/step - loss: 0.1014 - accuracy: 0.9631 - val_loss: 0.1356 - val_accuracy: 0.9524\n",
            "Epoch 10/20\n",
            "2/2 [==============================] - 24s 21s/step - loss: 0.1343 - accuracy: 0.9530 - val_loss: 0.1532 - val_accuracy: 0.9524\n",
            "Epoch 11/20\n",
            "2/2 [==============================] - 24s 8s/step - loss: 0.1310 - accuracy: 0.9463 - val_loss: 0.1180 - val_accuracy: 0.9524\n",
            "Epoch 12/20\n",
            "2/2 [==============================] - 25s 21s/step - loss: 0.0663 - accuracy: 0.9832 - val_loss: 0.1008 - val_accuracy: 0.9841\n",
            "Epoch 13/20\n",
            "2/2 [==============================] - 25s 8s/step - loss: 0.0446 - accuracy: 0.9866 - val_loss: 0.1269 - val_accuracy: 0.9365\n",
            "Epoch 14/20\n",
            "2/2 [==============================] - 25s 9s/step - loss: 0.0301 - accuracy: 0.9933 - val_loss: 0.1709 - val_accuracy: 0.9206\n",
            "Epoch 15/20\n",
            "2/2 [==============================] - 25s 21s/step - loss: 0.0280 - accuracy: 0.9933 - val_loss: 0.2096 - val_accuracy: 0.9048\n",
            "Epoch 16/20\n",
            "2/2 [==============================] - 25s 8s/step - loss: 0.0269 - accuracy: 0.9933 - val_loss: 0.2218 - val_accuracy: 0.9048\n",
            "Epoch 17/20\n",
            "2/2 [==============================] - 24s 21s/step - loss: 0.0215 - accuracy: 0.9933 - val_loss: 0.2053 - val_accuracy: 0.9048\n",
            "Epoch 18/20\n",
            "2/2 [==============================] - 24s 8s/step - loss: 0.0165 - accuracy: 1.0000 - val_loss: 0.1786 - val_accuracy: 0.9048\n",
            "Epoch 19/20\n",
            "2/2 [==============================] - 24s 8s/step - loss: 0.0122 - accuracy: 1.0000 - val_loss: 0.1507 - val_accuracy: 0.9206\n",
            "Epoch 20/20\n",
            "2/2 [==============================] - 25s 9s/step - loss: 0.0096 - accuracy: 1.0000 - val_loss: 0.1298 - val_accuracy: 0.9365\n"
          ]
        }
      ]
    },
    {
      "cell_type": "code",
      "source": [
        "plt.figure(figsize=(10,10))\n",
        "plt.plot(history.history['accuracy'])\n",
        "plt.plot(history.history['val_accuracy'])\n",
        "plt.title('Model Accuracy')\n",
        "plt.ylabel('Accuracy')\n",
        "plt.xlabel('Epoch')\n",
        "plt.legend(['train', 'validation'], loc='upper left')\n",
        "plt.show()"
      ],
      "metadata": {
        "colab": {
          "base_uri": "https://localhost:8080/",
          "height": 621
        },
        "id": "WKp0Io2pUeV3",
        "outputId": "ea8f6b43-e3f1-46a5-abd3-a5f3bb650a79"
      },
      "execution_count": null,
      "outputs": [
        {
          "output_type": "display_data",
          "data": {
            "text/plain": [
              "<Figure size 720x720 with 1 Axes>"
            ],
            "image/png": "[encoded data removed]"
          },
          "metadata": {
            "needs_background": "light"
          }
        }
      ]
    },
    {
      "cell_type": "code",
      "source": [
        "plt.figure(figsize=(10,10))\n",
        "plt.plot(history.history['loss'])\n",
        "plt.plot(history.history['val_loss'])\n",
        "plt.title('Model Loss')\n",
        "plt.ylabel('Loss')\n",
        "plt.xlabel('Epoch')\n",
        "plt.legend(['train', 'validation'], loc='upper left')\n",
        "plt.show()\n"
      ],
      "metadata": {
        "colab": {
          "base_uri": "https://localhost:8080/",
          "height": 621
        },
        "id": "N_Bo2srEUgFq",
        "outputId": "7aea423d-69f7-4766-e834-8697082e1188"
      },
      "execution_count": null,
      "outputs": [
        {
          "output_type": "display_data",
          "data": {
            "text/plain": [
              "<Figure size 720x720 with 1 Axes>"
            ],
            "image/png": "[encoded data removed]"
          },
          "metadata": {
            "needs_background": "light"
          }
        }
      ]
    },
    {
      "cell_type": "code",
      "source": [
        "score=model.evaluate(test_data)\n",
        "print(\"Loss:\",score[0])\n",
        "print(\"Accuracy score:\",score[1])"
      ],
      "metadata": {
        "colab": {
          "base_uri": "https://localhost:8080/"
        },
        "id": "xPgMn_3sUilL",
        "outputId": "6a3dd306-a3c5-44ad-f91c-13418bcbc2fb"
      },
      "execution_count": null,
      "outputs": [
        {
          "output_type": "stream",
          "name": "stdout",
          "text": [
            "2/2 [==============================] - 5s 2s/step - loss: 0.3878 - accuracy: 0.8657\n",
            "Loss: 0.3877679407596588\n",
            "Accuracy score: 0.8656716346740723\n"
          ]
        }
      ]
    },
    {
      "cell_type": "markdown",
      "source": [
        "## Conclusion: The pretrained model used for the multiclass classification is ResNet50. The train accuracy obtained is 99%, validation accuracy is 96% and the test accuracy is 88%. Therefore we can conclude that the model is classifying the images accurately."
      ],
      "metadata": {
        "id": "p8pqsS7XndB1"
      }
    },
    {
      "cell_type": "code",
      "source": [],
      "metadata": {
        "id": "fAf-pMHKnyES"
      },
      "execution_count": null,
      "outputs": []
    }
  ]
}