{
  "nbformat": 4,
  "nbformat_minor": 0,
  "metadata": {
    "colab": {
      "provenance": []
    },
    "kernelspec": {
      "name": "python3",
      "display_name": "Python 3"
    },
    "language_info": {
      "name": "python"
    }
  },
  "cells": [
    {
      "cell_type": "markdown",
      "source": [
        "# Logistic Regression using Neural Networks\n",
        "\n",
        "## Aim: To implement a neural network model to classify the given data using logistic regression.\n",
        "\n",
        "## Dataset: Toy dataset with 2 classses."
      ],
      "metadata": {
        "id": "ewnYOuSckAHQ"
      }
    },
    {
      "cell_type": "code",
      "execution_count": null,
      "metadata": {
        "id": "v7bFA6YzcnsU"
      },
      "outputs": [],
      "source": [
        "import pandas as pd\n",
        "import numpy as np\n",
        "from sklearn.datasets import make_classification\n",
        "from sklearn.model_selection import train_test_split\n",
        "import tensorflow as tf\n",
        "from keras.layers import Dense\n",
        "from keras.models import Sequential\n",
        "import matplotlib.pyplot as plt\n",
        "from sklearn.metrics import accuracy_score\n",
        "from keras.utils import to_categorical"
      ]
    },
    {
      "cell_type": "code",
      "source": [
        "x,y=make_classification(500,5,n_classes=2,random_state=1)"
      ],
      "metadata": {
        "id": "KpvH7NwXdu1V"
      },
      "execution_count": null,
      "outputs": []
    },
    {
      "cell_type": "code",
      "source": [],
      "metadata": {
        "id": "NJ_mkXAbm7Ww"
      },
      "execution_count": null,
      "outputs": []
    },
    {
      "cell_type": "code",
      "source": [
        "x_train,x_rem,y_train,y_rem=train_test_split(x,y,test_size=0.30)\n",
        "x_test,x_val,y_test,y_val=train_test_split(x_rem,y_rem,test_size=0.5)\n",
        "print(f\"Shape of X\\nTrain {x_train.shape}\\nValidation {x_val.shape}\\nTest {x_test.shape}\\n\")\n",
        "print(f\"Shape of Y\\nTrain {y_train.shape}\\nValidation {y_val.shape}\\nTest {y_test.shape}\")"
      ],
      "metadata": {
        "colab": {
          "base_uri": "https://localhost:8080/"
        },
        "id": "7sIHQxROeFgd",
        "outputId": "c484c5d7-5ca1-481e-b117-545568e77fb0"
      },
      "execution_count": null,
      "outputs": [
        {
          "output_type": "stream",
          "name": "stdout",
          "text": [
            "Shape of X\n",
            "Train (350, 5)\n",
            "Validation (75, 5)\n",
            "Test (75, 5)\n",
            "\n",
            "Shape of Y\n",
            "Train (350,)\n",
            "Validation (75,)\n",
            "Test (75,)\n"
          ]
        }
      ]
    },
    {
      "cell_type": "code",
      "source": [
        "model=Sequential()\n",
        "model.add(Dense(55,input_dim=5,activation='sigmoid'))\n",
        "model.add(Dense(50,activation='sigmoid'))\n",
        "model.add(Dense(25,activation='tanh'))\n",
        "model.add(Dense(13,activation='sigmoid'))\n",
        "model.add(Dense(1,activation='sigmoid'))\n",
        "model.compile(loss=\"binary_crossentropy\",optimizer='adam',metrics=['accuracy'])"
      ],
      "metadata": {
        "id": "KMaVAeTef30c"
      },
      "execution_count": null,
      "outputs": []
    },
    {
      "cell_type": "code",
      "source": [
        "model.summary()"
      ],
      "metadata": {
        "colab": {
          "base_uri": "https://localhost:8080/"
        },
        "id": "tjiqj5LThUtz",
        "outputId": "3c6bf9cb-ca88-4857-e680-cb7b129fd6ad"
      },
      "execution_count": null,
      "outputs": [
        {
          "output_type": "stream",
          "name": "stdout",
          "text": [
            "Model: \"sequential_11\"\n",
            "_________________________________________________________________\n",
            " Layer (type)                Output Shape              Param #   \n",
            "=================================================================\n",
            " dense_55 (Dense)            (None, 55)                330       \n",
            "                                                                 \n",
            " dense_56 (Dense)            (None, 50)                2800      \n",
            "                                                                 \n",
            " dense_57 (Dense)            (None, 25)                1275      \n",
            "                                                                 \n",
            " dense_58 (Dense)            (None, 13)                338       \n",
            "                                                                 \n",
            " dense_59 (Dense)            (None, 1)                 14        \n",
            "                                                                 \n",
            "=================================================================\n",
            "Total params: 4,757\n",
            "Trainable params: 4,757\n",
            "Non-trainable params: 0\n",
            "_________________________________________________________________\n"
          ]
        }
      ]
    },
    {
      "cell_type": "code",
      "source": [
        "mod=model.fit(x_train,y_train,validation_data=(x_val,y_val),epochs=150,verbose=0)"
      ],
      "metadata": {
        "id": "UMoi6oPVhWea"
      },
      "execution_count": null,
      "outputs": []
    },
    {
      "cell_type": "code",
      "source": [
        "plt.plot(mod.history['loss'])\n",
        "plt.plot(mod.history['val_loss'])\n",
        "plt.title(\"Train Loss vs Validation Loss\")\n",
        "plt.xlabel('Epochs')\n",
        "plt.ylabel('Loss')\n",
        "plt.legend(['Train','Validation'])\n",
        "plt.show()"
      ],
      "metadata": {
        "colab": {
          "base_uri": "https://localhost:8080/",
          "height": 295
        },
        "id": "YpWop7bZiMtJ",
        "outputId": "bc92e844-d11a-49e3-ea53-fe94725ee173"
      },
      "execution_count": null,
      "outputs": [
        {
          "output_type": "display_data",
          "data": {
            "text/plain": [
              "<Figure size 432x288 with 1 Axes>"
            ],
            "image/png": "[encoded data removed]"
          },
          "metadata": {
            "needs_background": "light"
          }
        }
      ]
    },
    {
      "cell_type": "code",
      "source": [
        "y_pred=model.predict(x_test)\n",
        "y_pred=np.argmax(y_pred,axis=1)\n"
      ],
      "metadata": {
        "colab": {
          "base_uri": "https://localhost:8080/"
        },
        "id": "3AYogQLjq2sq",
        "outputId": "0593470e-eb00-496f-9c48-1d1b89c70335"
      },
      "execution_count": null,
      "outputs": [
        {
          "output_type": "stream",
          "name": "stdout",
          "text": [
            "3/3 [==============================] - 0s 4ms/step\n"
          ]
        }
      ]
    },
    {
      "cell_type": "code",
      "source": [
        "y_pred"
      ],
      "metadata": {
        "colab": {
          "base_uri": "https://localhost:8080/"
        },
        "id": "0rHTAGnqqez9",
        "outputId": "24fb559b-4c79-44c6-e66b-9b896eb969b7"
      },
      "execution_count": null,
      "outputs": [
        {
          "output_type": "execute_result",
          "data": {
            "text/plain": [
              "array([0, 0, 0, 0, 0, 0, 0, 0, 0, 0, 0, 0, 0, 0, 0, 0, 0, 0, 0, 0, 0, 0,\n",
              "       0, 0, 0, 0, 0, 0, 0, 0, 0, 0, 0, 0, 0, 0, 0, 0, 0, 0, 0, 0, 0, 0,\n",
              "       0, 0, 0, 0, 0, 0, 0, 0, 0, 0, 0, 0, 0, 0, 0, 0, 0, 0, 0, 0, 0, 0,\n",
              "       0, 0, 0, 0, 0, 0, 0, 0, 0])"
            ]
          },
          "metadata": {},
          "execution_count": 97
        }
      ]
    },
    {
      "cell_type": "code",
      "source": [
        "for i in range(10):\n",
        " print(f\"X={x_test[i]}, Actual={y_test[i]}, Predicted={y_pred[i]}\")"
      ],
      "metadata": {
        "colab": {
          "base_uri": "https://localhost:8080/"
        },
        "id": "LVtkuOxWi6V7",
        "outputId": "e1e92827-eb06-4c78-efba-75bad578842e"
      },
      "execution_count": null,
      "outputs": [
        {
          "output_type": "stream",
          "name": "stdout",
          "text": [
            "X=[-0.85115199  0.82847663 -1.25544095  0.27915545 -1.15140471], Actual=0, Predicted=0\n",
            "X=[-0.54919344  0.46793043 -0.37097042 -0.58702901  0.0890736 ], Actual=1, Predicted=0\n",
            "X=[ 0.55173586 -0.35607046 -0.37870949  0.5208122  -1.51327329], Actual=0, Predicted=0\n",
            "X=[ 0.8912972  -0.84259085  1.15016628 -0.39629329  0.89403011], Actual=1, Predicted=0\n",
            "X=[ 0.8951263  -0.85932498  1.24152653 -1.43206703  1.06162229], Actual=1, Predicted=0\n",
            "X=[ 0.36165558 -0.44114638  1.12074844 -0.24282642  1.60209935], Actual=1, Predicted=0\n",
            "X=[ 0.59977604 -0.63125628  1.19740227 -1.33569545  1.40394658], Actual=1, Predicted=0\n",
            "X=[ 1.54493792 -1.38092656  1.46920539 -0.77589482  0.55592782], Actual=1, Predicted=0\n",
            "X=[-0.66250833  0.69020257 -1.2759962   0.16280825 -1.46240245], Actual=0, Predicted=0\n",
            "X=[ 0.33913452 -0.40832808  1.01572083  1.52924786  1.43556576], Actual=1, Predicted=0\n"
          ]
        }
      ]
    },
    {
      "cell_type": "code",
      "source": [
        "yt_pred=model.predict(x_train)\n",
        "yt_pred=np.argmax(yt_pred,axis=1)"
      ],
      "metadata": {
        "colab": {
          "base_uri": "https://localhost:8080/"
        },
        "id": "MGy45ur-0rcJ",
        "outputId": "5df0ef7a-a37e-4276-8e99-c81de3c9ad05"
      },
      "execution_count": null,
      "outputs": [
        {
          "output_type": "stream",
          "name": "stdout",
          "text": [
            "11/11 [==============================] - 0s 2ms/step\n"
          ]
        }
      ]
    },
    {
      "cell_type": "code",
      "source": [
        "\n",
        "yv_pred=model.predict(x_val)\n",
        "yv_pred=np.argmax(yv_pred,axis=1)"
      ],
      "metadata": {
        "colab": {
          "base_uri": "https://localhost:8080/"
        },
        "id": "6my86ExZ2vxg",
        "outputId": "89804bbc-e819-49f9-cb65-c499a16e9095"
      },
      "execution_count": null,
      "outputs": [
        {
          "output_type": "stream",
          "name": "stdout",
          "text": [
            "3/3 [==============================] - 0s 3ms/step\n"
          ]
        }
      ]
    },
    {
      "cell_type": "code",
      "source": [
        "print(\"Accuracy of train\",round(accuracy_score(y_train,yt_pred)*100,2),'%')"
      ],
      "metadata": {
        "colab": {
          "base_uri": "https://localhost:8080/"
        },
        "id": "ICh9mHjI2qLl",
        "outputId": "92bdbca4-5a34-400c-879a-1c4c7cd43350"
      },
      "execution_count": null,
      "outputs": [
        {
          "output_type": "stream",
          "name": "stdout",
          "text": [
            "Accuracy of train 48.29 %\n"
          ]
        }
      ]
    },
    {
      "cell_type": "code",
      "source": [
        "print(\"Accuracy of Validation\",round(accuracy_score(y_val,yv_pred)*100,2),'%')"
      ],
      "metadata": {
        "colab": {
          "base_uri": "https://localhost:8080/"
        },
        "id": "N0o3dgko3R28",
        "outputId": "a2ddbbeb-58fc-4a1e-f556-e853be647be3"
      },
      "execution_count": null,
      "outputs": [
        {
          "output_type": "stream",
          "name": "stdout",
          "text": [
            "Accuracy of Validation 62.67 %\n"
          ]
        }
      ]
    },
    {
      "cell_type": "code",
      "source": [
        "print(\"Accuracy of test\",round(accuracy_score(y_test,y_pred)*100,2),'%')"
      ],
      "metadata": {
        "colab": {
          "base_uri": "https://localhost:8080/"
        },
        "id": "TbfkhI0OwL3G",
        "outputId": "fb8f36b7-6fd3-42a9-b5ee-ed0327a84974"
      },
      "execution_count": null,
      "outputs": [
        {
          "output_type": "stream",
          "name": "stdout",
          "text": [
            "Accuracy of test 48.0 %\n"
          ]
        }
      ]
    },
    {
      "cell_type": "code",
      "source": [
        "train=model.evaluate(x_train,y_train)\n",
        "print(f'Train accuracy {round(train[1]*100)}%')\n",
        "validate=model.evaluate(x_val,y_val)\n",
        "print(f'Validation accuracy {round(validate[1]*100)}%')"
      ],
      "metadata": {
        "colab": {
          "base_uri": "https://localhost:8080/"
        },
        "id": "2YSeOJHKhrLA",
        "outputId": "805881c2-aef3-4d7e-f636-f5426499f370"
      },
      "execution_count": null,
      "outputs": [
        {
          "output_type": "stream",
          "name": "stdout",
          "text": [
            "11/11 [==============================] - 0s 2ms/step - loss: 0.1914 - accuracy: 0.9257\n",
            "Train accuracy 93%\n",
            "3/3 [==============================] - 0s 5ms/step - loss: 0.1620 - accuracy: 0.9600\n",
            "Validation accuracy 96%\n"
          ]
        }
      ]
    },
    {
      "cell_type": "markdown",
      "source": [
        "## Conclusion: The above model gave a train accuracy of 95% , validation accuracy of 49.33% and test accuracy of 50%, thus the model is overfitting we have to tune our model for best fit."
      ],
      "metadata": {
        "id": "wYAbsvGZRCQL"
      }
    }
  ]
}