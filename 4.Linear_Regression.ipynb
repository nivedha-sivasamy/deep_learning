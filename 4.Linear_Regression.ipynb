{
  "nbformat": 4,
  "nbformat_minor": 0,
  "metadata": {
    "colab": {
      "provenance": []
    },
    "kernelspec": {
      "name": "python3",
      "display_name": "Python 3"
    },
    "language_info": {
      "name": "python"
    }
  },
  "cells": [
    {
      "cell_type": "markdown",
      "source": [
        "# Linear Regression using Neural Networks\n",
        "\n",
        "## Aim: To implement a neural network model to make predictions using linear regression.\n",
        "\n",
        "## Dataset: Toy dataset with 5 features."
      ],
      "metadata": {
        "id": "trFLrymhjrlb"
      }
    },
    {
      "cell_type": "code",
      "execution_count": null,
      "metadata": {
        "id": "PmrQH2fT33PF"
      },
      "outputs": [],
      "source": [
        "import pandas as pd\n",
        "import numpy as np\n",
        "from sklearn.datasets import make_regression\n",
        "from sklearn.model_selection import train_test_split\n",
        "import tensorflow as tf\n",
        "from keras.layers import Dense\n",
        "from keras.models import Sequential\n",
        "import matplotlib.pyplot as plt"
      ]
    },
    {
      "cell_type": "code",
      "source": [
        "x,y =make_regression(n_samples=500,n_features=5,random_state=1)"
      ],
      "metadata": {
        "id": "XGjuixIW5dY5"
      },
      "execution_count": null,
      "outputs": []
    },
    {
      "cell_type": "code",
      "source": [
        "x_train,x_rem,y_train,y_rem=train_test_split(x,y,test_size=0.25)\n",
        "x_test,x_val,y_test,y_val=train_test_split(x_rem,y_rem,test_size=0.5)\n",
        "print(f\"Shape of X\\nTrain {x_train.shape}\\nValidation {x_val.shape}\\nTest {x_test.shape}\\n\")\n",
        "print(f\"Shape of Y\\nTrain {y_train.shape}\\nValidation {y_val.shape}\\nTest {y_test.shape}\")"
      ],
      "metadata": {
        "colab": {
          "base_uri": "https://localhost:8080/"
        },
        "id": "2-wpuKHZ5dWq",
        "outputId": "caa3c09a-7d5a-43b0-e685-fe0f7fa62fc4"
      },
      "execution_count": null,
      "outputs": [
        {
          "output_type": "stream",
          "name": "stdout",
          "text": [
            "Shape of X\n",
            "Train (375, 5)\n",
            "Validation (63, 5)\n",
            "Test (62, 5)\n",
            "\n",
            "Shape of Y\n",
            "Train (375,)\n",
            "Validation (63,)\n",
            "Test (62,)\n"
          ]
        }
      ]
    },
    {
      "cell_type": "code",
      "source": [
        "model=Sequential()\n",
        "model.add(Dense(5,input_dim=5,activation='relu'))\n",
        "model.add(Dense(25,activation='relu'))\n",
        "model.add(Dense(15,activation='linear'))\n",
        "model.add(Dense(33,activation='relu'))\n",
        "model.add(Dense(1,activation='linear'))\n",
        "model.compile(loss=\"mse\",optimizer='adam',metrics=['mse','mae'])"
      ],
      "metadata": {
        "id": "5fYmaCfS5-cQ"
      },
      "execution_count": null,
      "outputs": []
    },
    {
      "cell_type": "code",
      "source": [
        "model.summary()"
      ],
      "metadata": {
        "colab": {
          "base_uri": "https://localhost:8080/"
        },
        "id": "00eIvaeW7KEb",
        "outputId": "19bcad06-7d6f-4987-9bfe-9f643c672e61"
      },
      "execution_count": null,
      "outputs": [
        {
          "output_type": "stream",
          "name": "stdout",
          "text": [
            "Model: \"sequential_4\"\n",
            "_________________________________________________________________\n",
            " Layer (type)                Output Shape              Param #   \n",
            "=================================================================\n",
            " dense_20 (Dense)            (None, 5)                 30        \n",
            "                                                                 \n",
            " dense_21 (Dense)            (None, 25)                150       \n",
            "                                                                 \n",
            " dense_22 (Dense)            (None, 15)                390       \n",
            "                                                                 \n",
            " dense_23 (Dense)            (None, 33)                528       \n",
            "                                                                 \n",
            " dense_24 (Dense)            (None, 1)                 34        \n",
            "                                                                 \n",
            "=================================================================\n",
            "Total params: 1,132\n",
            "Trainable params: 1,132\n",
            "Non-trainable params: 0\n",
            "_________________________________________________________________\n"
          ]
        }
      ]
    },
    {
      "cell_type": "code",
      "source": [
        "mod=model.fit(x_train,y_train,validation_data=(x_val,y_val),epochs=50,verbose=0)"
      ],
      "metadata": {
        "id": "Ipa3RHZz7KCG"
      },
      "execution_count": null,
      "outputs": []
    },
    {
      "cell_type": "code",
      "source": [
        "plt.plot(mod.history['loss'])\n",
        "plt.plot(mod.history['val_loss'])\n",
        "plt.title(\"Train Loss vs Validation Loss\")\n",
        "plt.xlabel('Epochs')\n",
        "plt.ylabel('Loss')\n",
        "plt.legend(['Train','Validation'])\n",
        "plt.show()"
      ],
      "metadata": {
        "colab": {
          "base_uri": "https://localhost:8080/",
          "height": 295
        },
        "id": "clrXNomI7KAI",
        "outputId": "94c4ce86-f758-4c2b-b299-68c43ef3c7fd"
      },
      "execution_count": null,
      "outputs": [
        {
          "output_type": "display_data",
          "data": {
            "text/plain": [
              "<Figure size 432x288 with 1 Axes>"
            ],
            "image/png": "[encoded data removed]"
          },
          "metadata": {
            "needs_background": "light"
          }
        }
      ]
    },
    {
      "cell_type": "code",
      "source": [
        "y_pred=model.predict(x_test).flatten()"
      ],
      "metadata": {
        "colab": {
          "base_uri": "https://localhost:8080/"
        },
        "id": "JjvyZ5VL7jBf",
        "outputId": "a5d3e39d-585b-4174-de5e-98b4ec91a7c1"
      },
      "execution_count": null,
      "outputs": [
        {
          "output_type": "stream",
          "name": "stdout",
          "text": [
            "2/2 [==============================] - 0s 5ms/step\n"
          ]
        }
      ]
    },
    {
      "cell_type": "code",
      "source": [
        "for i in range(10):\n",
        " print(f\"\\nX={x_test[i]}, Actual={y_test[i]}, Predicted={y_pred[i]}\")"
      ],
      "metadata": {
        "colab": {
          "base_uri": "https://localhost:8080/"
        },
        "id": "XPhrsA7z7i5C",
        "outputId": "a21732e4-984f-49de-efc0-23a7bd5d1a89"
      },
      "execution_count": null,
      "outputs": [
        {
          "output_type": "stream",
          "name": "stdout",
          "text": [
            "\n",
            "X=[-0.48877086 -1.08723367  0.38074345  1.13361346 -0.09034437], Actual=-72.26409300859316, Predicted=-71.0714340209961\n",
            "\n",
            "X=[ 0.72282268  1.34027191  3.7402489  -1.63647401 -0.45877498], Actual=275.8737414895313, Predicted=272.9704895019531\n",
            "\n",
            "X=[-0.25898285  0.057121   -1.71939447 -0.79954749 -0.2915946 ], Actual=-118.05062936476352, Predicted=-95.10240173339844\n",
            "\n",
            "X=[ 0.17281608  0.37857558  0.63702532 -0.53969765  1.63062979], Actual=118.91552196138366, Predicted=123.73629760742188\n",
            "\n",
            "X=[ 1.13548397 -1.07233211  0.71257056 -1.50707559  1.58466204], Actual=8.331859348541968, Predicted=24.236967086791992\n",
            "\n",
            "X=[ 2.08412285 -0.08060699 -0.19850032  1.30357545  0.13859548], Actual=93.42001391797396, Predicted=90.16461181640625\n",
            "\n",
            "X=[-0.67124613 -0.39675353 -0.69166075 -0.6871727  -0.84520564], Actual=-139.7093001852112, Predicted=-142.51058959960938\n",
            "\n",
            "X=[-1.20410135  1.40061789  1.33514133 -1.50017688  0.13887887], Actual=116.23208391354098, Predicted=122.93607330322266\n",
            "\n",
            "X=[ 2.06318544  0.58688475  2.01464887 -0.99910951  1.04601512], Actual=243.10313423083466, Predicted=220.33425903320312\n",
            "\n",
            "X=[-0.86131636 -0.31098498 -0.49821356 -0.00189148 -1.39662042], Actual=-134.7465960709222, Predicted=-146.5933380126953\n"
          ]
        }
      ]
    },
    {
      "cell_type": "code",
      "source": [
        "train=model.evaluate(x_train,y_train)\n",
        "validate=model.evaluate(x_val,y_val)\n",
        "test=model.evaluate(x_test,y_test)"
      ],
      "metadata": {
        "colab": {
          "base_uri": "https://localhost:8080/"
        },
        "id": "T9ahmZKR84gq",
        "outputId": "ce0ba6fa-2907-48cb-d8e7-a68eb583e056"
      },
      "execution_count": null,
      "outputs": [
        {
          "output_type": "stream",
          "name": "stdout",
          "text": [
            "12/12 [==============================] - 0s 2ms/step - loss: 191.0343 - mse: 191.0343 - mae: 11.0138\n",
            "2/2 [==============================] - 0s 6ms/step - loss: 267.6085 - mse: 267.6085 - mae: 13.8029\n",
            "2/2 [==============================] - 0s 6ms/step - loss: 371.2659 - mse: 371.2659 - mae: 14.2161\n"
          ]
        }
      ]
    },
    {
      "cell_type": "code",
      "source": [
        "print(f'Train loss {train[0]}, Train MSE {train[1]}, Train MAE {train[2]}\\n')\n",
        "print(f'Validation loss {validate[0]}, Validation MSE {validate[1]}, Validation MAE {validate[2]}\\n')\n",
        "print(f'Test loss {test[0]}, Test MSE {test[1]}, Test MAE {test[2]}\\n')"
      ],
      "metadata": {
        "colab": {
          "base_uri": "https://localhost:8080/"
        },
        "id": "Seuu4i468W1K",
        "outputId": "1725a461-3b06-4b1e-e415-861e8b22671e"
      },
      "execution_count": null,
      "outputs": [
        {
          "output_type": "stream",
          "name": "stdout",
          "text": [
            "Train loss 191.0343475341797, Train MSE 191.0343475341797, Train MAE 11.013753890991211\n",
            "\n",
            "Validation loss 267.60845947265625, Validation MSE 267.60845947265625, Validation MAE 13.802900314331055\n",
            "\n",
            "Test loss 371.265869140625, Test MSE 371.265869140625, Test MAE 14.216127395629883\n",
            "\n"
          ]
        }
      ]
    },
    {
      "cell_type": "markdown",
      "source": [
        "## Conclusion: The model gave Train MAE of 11.01, validation MAE of 13.8029 and test MAE of 14.2161. We have to tune the model to reduce the error of our model to make accurate predictions."
      ],
      "metadata": {
        "id": "z_p_85-cR_-p"
      }
    }
  ]
}