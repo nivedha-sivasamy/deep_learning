{
  "nbformat": 4,
  "nbformat_minor": 0,
  "metadata": {
    "colab": {
      "provenance": []
    },
    "kernelspec": {
      "name": "python3",
      "display_name": "Python 3"
    },
    "language_info": {
      "name": "python"
    }
  },
  "cells": [
    {
      "cell_type": "markdown",
      "source": [
        "# Regularization\n",
        "\n",
        "## Aim: To implement CNN with various regularization techniques.\n",
        "\n",
        "## Dataset: Iris dataset."
      ],
      "metadata": {
        "id": "Th3F4pw5LW9N"
      }
    },
    {
      "cell_type": "code",
      "source": [
        "import pandas as pd\n",
        "import numpy as np\n",
        "from sklearn.datasets import make_moons\n",
        "from keras.layers import Dense, Conv1D, Flatten, Dropout\n",
        "from keras.models import Sequential\n",
        "import matplotlib.pyplot as plt\n",
        "from sklearn.model_selection import train_test_split\n",
        "from keras import regularizers\n",
        "from keras.callbacks import EarlyStopping\n",
        "from sklearn import preprocessing"
      ],
      "metadata": {
        "id": "AnckYWZbLVnY"
      },
      "execution_count": null,
      "outputs": []
    },
    {
      "cell_type": "code",
      "source": [
        "d=pd.read_csv('/content/drive/MyDrive/Iris.csv')"
      ],
      "metadata": {
        "id": "qHIEWx5R15fO"
      },
      "execution_count": null,
      "outputs": []
    },
    {
      "cell_type": "code",
      "source": [
        "d.head()"
      ],
      "metadata": {
        "colab": {
          "base_uri": "https://localhost:8080/",
          "height": 198
        },
        "id": "-yErl_4-3Fd3",
        "outputId": "51f724bd-dfad-4b4b-d8cb-e265328f5df3"
      },
      "execution_count": null,
      "outputs": [
        {
          "output_type": "execute_result",
          "data": {
            "text/plain": [
              "   Id  SepalLengthCm  SepalWidthCm  PetalLengthCm  PetalWidthCm      Species\n",
              "0   1            5.1           3.5            1.4           0.2  Iris-setosa\n",
              "1   2            4.9           3.0            1.4           0.2  Iris-setosa\n",
              "2   3            4.7           3.2            1.3           0.2  Iris-setosa\n",
              "3   4            4.6           3.1            1.5           0.2  Iris-setosa\n",
              "4   5            5.0           3.6            1.4           0.2  Iris-setosa"
            ],
            "text/html": [
              "\n",
              "  <div id=\"df-8bfcdb0e-40a1-4f17-a476-7b59a9dc125c\">\n",
              "    <div class=\"colab-df-container\">\n",
              "      <div>\n",
              "<style scoped>\n",
              "    .dataframe tbody tr th:only-of-type {\n",
              "        vertical-align: middle;\n",
              "    }\n",
              "\n",
              "    .dataframe tbody tr th {\n",
              "        vertical-align: top;\n",
              "    }\n",
              "\n",
              "    .dataframe thead th {\n",
              "        text-align: right;\n",
              "    }\n",
              "</style>\n",
              "<table border=\"1\" class=\"dataframe\">\n",
              "  <thead>\n",
              "    <tr style=\"text-align: right;\">\n",
              "      <th></th>\n",
              "      <th>Id</th>\n",
              "      <th>SepalLengthCm</th>\n",
              "      <th>SepalWidthCm</th>\n",
              "      <th>PetalLengthCm</th>\n",
              "      <th>PetalWidthCm</th>\n",
              "      <th>Species</th>\n",
              "    </tr>\n",
              "  </thead>\n",
              "  <tbody>\n",
              "    <tr>\n",
              "      <th>0</th>\n",
              "      <td>1</td>\n",
              "      <td>5.1</td>\n",
              "      <td>3.5</td>\n",
              "      <td>1.4</td>\n",
              "      <td>0.2</td>\n",
              "      <td>Iris-setosa</td>\n",
              "    </tr>\n",
              "    <tr>\n",
              "      <th>1</th>\n",
              "      <td>2</td>\n",
              "      <td>4.9</td>\n",
              "      <td>3.0</td>\n",
              "      <td>1.4</td>\n",
              "      <td>0.2</td>\n",
              "      <td>Iris-setosa</td>\n",
              "    </tr>\n",
              "    <tr>\n",
              "      <th>2</th>\n",
              "      <td>3</td>\n",
              "      <td>4.7</td>\n",
              "      <td>3.2</td>\n",
              "      <td>1.3</td>\n",
              "      <td>0.2</td>\n",
              "      <td>Iris-setosa</td>\n",
              "    </tr>\n",
              "    <tr>\n",
              "      <th>3</th>\n",
              "      <td>4</td>\n",
              "      <td>4.6</td>\n",
              "      <td>3.1</td>\n",
              "      <td>1.5</td>\n",
              "      <td>0.2</td>\n",
              "      <td>Iris-setosa</td>\n",
              "    </tr>\n",
              "    <tr>\n",
              "      <th>4</th>\n",
              "      <td>5</td>\n",
              "      <td>5.0</td>\n",
              "      <td>3.6</td>\n",
              "      <td>1.4</td>\n",
              "      <td>0.2</td>\n",
              "      <td>Iris-setosa</td>\n",
              "    </tr>\n",
              "  </tbody>\n",
              "</table>\n",
              "</div>\n",
              "      <button class=\"colab-df-convert\" onclick=\"convertToInteractive('df-8bfcdb0e-40a1-4f17-a476-7b59a9dc125c')\"\n",
              "              title=\"Convert this dataframe to an interactive table.\"\n",
              "              style=\"display:none;\">\n",
              "        \n",
              "  <svg xmlns=\"http://www.w3.org/2000/svg\" height=\"24px\"viewBox=\"0 0 24 24\"\n",
              "       width=\"24px\">\n",
              "    <path d=\"M0 0h24v24H0V0z\" fill=\"none\"/>\n",
              "    <path d=\"M18.56 5.44l.94 2.06.94-2.06 2.06-.94-2.06-.94-.94-2.06-.94 2.06-2.06.94zm-11 1L8.5 8.5l.94-2.06 2.06-.94-2.06-.94L8.5 2.5l-.94 2.06-2.06.94zm10 10l.94 2.06.94-2.06 2.06-.94-2.06-.94-.94-2.06-.94 2.06-2.06.94z\"/><path d=\"M17.41 7.96l-1.37-1.37c-.4-.4-.92-.59-1.43-.59-.52 0-1.04.2-1.43.59L10.3 9.45l-7.72 7.72c-.78.78-.78 2.05 0 2.83L4 21.41c.39.39.9.59 1.41.59.51 0 1.02-.2 1.41-.59l7.78-7.78 2.81-2.81c.8-.78.8-2.07 0-2.86zM5.41 20L4 18.59l7.72-7.72 1.47 1.35L5.41 20z\"/>\n",
              "  </svg>\n",
              "      </button>\n",
              "      \n",
              "  <style>\n",
              "    .colab-df-container {\n",
              "      display:flex;\n",
              "      flex-wrap:wrap;\n",
              "      gap: 12px;\n",
              "    }\n",
              "\n",
              "    .colab-df-convert {\n",
              "      background-color: #E8F0FE;\n",
              "      border: none;\n",
              "      border-radius: 50%;\n",
              "      cursor: pointer;\n",
              "      display: none;\n",
              "      fill: #1967D2;\n",
              "      height: 32px;\n",
              "      padding: 0 0 0 0;\n",
              "      width: 32px;\n",
              "    }\n",
              "\n",
              "    .colab-df-convert:hover {\n",
              "      background-color: #E2EBFA;\n",
              "      box-shadow: 0px 1px 2px rgba(60, 64, 67, 0.3), 0px 1px 3px 1px rgba(60, 64, 67, 0.15);\n",
              "      fill: #174EA6;\n",
              "    }\n",
              "\n",
              "    [theme=dark] .colab-df-convert {\n",
              "      background-color: #3B4455;\n",
              "      fill: #D2E3FC;\n",
              "    }\n",
              "\n",
              "    [theme=dark] .colab-df-convert:hover {\n",
              "      background-color: #434B5C;\n",
              "      box-shadow: 0px 1px 3px 1px rgba(0, 0, 0, 0.15);\n",
              "      filter: drop-shadow(0px 1px 2px rgba(0, 0, 0, 0.3));\n",
              "      fill: #FFFFFF;\n",
              "    }\n",
              "  </style>\n",
              "\n",
              "      <script>\n",
              "        const buttonEl =\n",
              "          document.querySelector('#df-8bfcdb0e-40a1-4f17-a476-7b59a9dc125c button.colab-df-convert');\n",
              "        buttonEl.style.display =\n",
              "          google.colab.kernel.accessAllowed ? 'block' : 'none';\n",
              "\n",
              "        async function convertToInteractive(key) {\n",
              "          const element = document.querySelector('#df-8bfcdb0e-40a1-4f17-a476-7b59a9dc125c');\n",
              "          const dataTable =\n",
              "            await google.colab.kernel.invokeFunction('convertToInteractive',\n",
              "                                                     [key], {});\n",
              "          if (!dataTable) return;\n",
              "\n",
              "          const docLinkHtml = 'Like what you see? Visit the ' +\n",
              "            '<a target=\"_blank\" href=https://colab.research.google.com/notebooks/data_table.ipynb>data table notebook</a>'\n",
              "            + ' to learn more about interactive tables.';\n",
              "          element.innerHTML = '';\n",
              "          dataTable['output_type'] = 'display_data';\n",
              "          await google.colab.output.renderOutput(dataTable, element);\n",
              "          const docLink = document.createElement('div');\n",
              "          docLink.innerHTML = docLinkHtml;\n",
              "          element.appendChild(docLink);\n",
              "        }\n",
              "      </script>\n",
              "    </div>\n",
              "  </div>\n",
              "  "
            ]
          },
          "metadata": {},
          "execution_count": 120
        }
      ]
    },
    {
      "cell_type": "code",
      "source": [
        "le=preprocessing.LabelEncoder()\n",
        "d['Species']=le.fit_transform(d['Species'])"
      ],
      "metadata": {
        "id": "oOzFkfEm33EK"
      },
      "execution_count": null,
      "outputs": []
    },
    {
      "cell_type": "code",
      "source": [
        "X=d.drop('Species',axis=1)\n",
        "X=np.array(X)\n",
        "Y=d['Species']\n",
        "Y=np.array(Y)"
      ],
      "metadata": {
        "id": "kUZrVE5y4h9g"
      },
      "execution_count": null,
      "outputs": []
    },
    {
      "cell_type": "code",
      "source": [
        "X=X.reshape(X.shape[0], X.shape[1], 1)"
      ],
      "metadata": {
        "id": "A9GuCv9j9uSw"
      },
      "execution_count": null,
      "outputs": []
    },
    {
      "cell_type": "code",
      "source": [
        "x_train,x_rem,y_train,y_rem=train_test_split(X,Y,test_size=0.30)"
      ],
      "metadata": {
        "id": "1hTsUn_ALybg"
      },
      "execution_count": null,
      "outputs": []
    },
    {
      "cell_type": "code",
      "source": [
        "x_test,x_val,y_test,y_val=train_test_split(x_rem,y_rem,test_size=0.5)"
      ],
      "metadata": {
        "id": "0SP8TtzFLyYe"
      },
      "execution_count": null,
      "outputs": []
    },
    {
      "cell_type": "code",
      "source": [
        "print(f\"Shape of X\\nTrain {x_train.shape}\\nValidation {x_val.shape}\")\n",
        "print(f'Test {x_test.shape}')"
      ],
      "metadata": {
        "colab": {
          "base_uri": "https://localhost:8080/"
        },
        "id": "kvrayDELLyVg",
        "outputId": "aedd43f6-048a-407c-fc42-5f14a6aa31e0"
      },
      "execution_count": null,
      "outputs": [
        {
          "output_type": "stream",
          "name": "stdout",
          "text": [
            "Shape of X\n",
            "Train (105, 5, 1)\n",
            "Validation (23, 5, 1)\n",
            "Test (22, 5, 1)\n"
          ]
        }
      ]
    },
    {
      "cell_type": "code",
      "source": [
        "print(f\"Shape of Y\\nTrain {y_train.shape}\\nValidation {y_val.shape}\")\n",
        "print(f'Test {y_test.shape}')"
      ],
      "metadata": {
        "colab": {
          "base_uri": "https://localhost:8080/"
        },
        "id": "i_JagCI8LyRS",
        "outputId": "53dce1d2-6e59-4e30-ac09-6ce1215ebc65"
      },
      "execution_count": null,
      "outputs": [
        {
          "output_type": "stream",
          "name": "stdout",
          "text": [
            "Shape of Y\n",
            "Train (105,)\n",
            "Validation (23,)\n",
            "Test (22,)\n"
          ]
        }
      ]
    },
    {
      "cell_type": "code",
      "source": [
        "model = Sequential()\n",
        "model.add(Conv1D(64, 2, activation=\"sigmoid\",\n",
        "                 input_shape=(5,1)))\n",
        "model.add(Dense(500, activation=\"sigmoid\"))\n",
        "model.add(Dense(25, activation=\"relu\"))\n",
        "model.add(Dense(550, activation=\"sigmoid\"))\n",
        "model.add(Flatten())\n",
        "model.add(Dense(1, activation = 'sigmoid'))\n",
        "model.compile(loss = 'categorical_crossentropy',\n",
        "     optimizer = \"adam\",\n",
        "              metrics = ['accuracy'])"
      ],
      "metadata": {
        "id": "fsVLu3TZNDn9"
      },
      "execution_count": null,
      "outputs": []
    },
    {
      "cell_type": "code",
      "source": [
        "model.summary()"
      ],
      "metadata": {
        "colab": {
          "base_uri": "https://localhost:8080/"
        },
        "id": "BAG0F3fKNoEd",
        "outputId": "011c21e8-341d-4212-b843-0bdde751a296"
      },
      "execution_count": null,
      "outputs": [
        {
          "output_type": "stream",
          "name": "stdout",
          "text": [
            "Model: \"sequential_18\"\n",
            "_________________________________________________________________\n",
            " Layer (type)                Output Shape              Param #   \n",
            "=================================================================\n",
            " conv1d_18 (Conv1D)          (None, 4, 64)             192       \n",
            "                                                                 \n",
            " dense_72 (Dense)            (None, 4, 500)            32500     \n",
            "                                                                 \n",
            " dense_73 (Dense)            (None, 4, 25)             12525     \n",
            "                                                                 \n",
            " dense_74 (Dense)            (None, 4, 550)            14300     \n",
            "                                                                 \n",
            " flatten_18 (Flatten)        (None, 2200)              0         \n",
            "                                                                 \n",
            " dense_75 (Dense)            (None, 1)                 2201      \n",
            "                                                                 \n",
            "=================================================================\n",
            "Total params: 61,718\n",
            "Trainable params: 61,718\n",
            "Non-trainable params: 0\n",
            "_________________________________________________________________\n"
          ]
        }
      ]
    },
    {
      "cell_type": "code",
      "source": [
        "col=['Train_accuracy','Validation_accuracy','Test_accuracy']\n",
        "ind=['Model','L1(1e-6)','L2(1e-6)','Early_Stopping',\"Drop_out\"]\n",
        "d=pd.DataFrame(columns=col)\n",
        "display(d)"
      ],
      "metadata": {
        "colab": {
          "base_uri": "https://localhost:8080/",
          "height": 49
        },
        "id": "hrvWwHI6bYq9",
        "outputId": "aa980def-b905-4cf0-b8c0-ebbadca61a47"
      },
      "execution_count": null,
      "outputs": [
        {
          "output_type": "display_data",
          "data": {
            "text/plain": [
              "Empty DataFrame\n",
              "Columns: [Train_accuracy, Validation_accuracy, Test_accuracy]\n",
              "Index: []"
            ],
            "text/html": [
              "\n",
              "  <div id=\"df-702d2635-eeef-4711-bc8c-900a32261a70\">\n",
              "    <div class=\"colab-df-container\">\n",
              "      <div>\n",
              "<style scoped>\n",
              "    .dataframe tbody tr th:only-of-type {\n",
              "        vertical-align: middle;\n",
              "    }\n",
              "\n",
              "    .dataframe tbody tr th {\n",
              "        vertical-align: top;\n",
              "    }\n",
              "\n",
              "    .dataframe thead th {\n",
              "        text-align: right;\n",
              "    }\n",
              "</style>\n",
              "<table border=\"1\" class=\"dataframe\">\n",
              "  <thead>\n",
              "    <tr style=\"text-align: right;\">\n",
              "      <th></th>\n",
              "      <th>Train_accuracy</th>\n",
              "      <th>Validation_accuracy</th>\n",
              "      <th>Test_accuracy</th>\n",
              "    </tr>\n",
              "  </thead>\n",
              "  <tbody>\n",
              "  </tbody>\n",
              "</table>\n",
              "</div>\n",
              "      <button class=\"colab-df-convert\" onclick=\"convertToInteractive('df-702d2635-eeef-4711-bc8c-900a32261a70')\"\n",
              "              title=\"Convert this dataframe to an interactive table.\"\n",
              "              style=\"display:none;\">\n",
              "        \n",
              "  <svg xmlns=\"http://www.w3.org/2000/svg\" height=\"24px\"viewBox=\"0 0 24 24\"\n",
              "       width=\"24px\">\n",
              "    <path d=\"M0 0h24v24H0V0z\" fill=\"none\"/>\n",
              "    <path d=\"M18.56 5.44l.94 2.06.94-2.06 2.06-.94-2.06-.94-.94-2.06-.94 2.06-2.06.94zm-11 1L8.5 8.5l.94-2.06 2.06-.94-2.06-.94L8.5 2.5l-.94 2.06-2.06.94zm10 10l.94 2.06.94-2.06 2.06-.94-2.06-.94-.94-2.06-.94 2.06-2.06.94z\"/><path d=\"M17.41 7.96l-1.37-1.37c-.4-.4-.92-.59-1.43-.59-.52 0-1.04.2-1.43.59L10.3 9.45l-7.72 7.72c-.78.78-.78 2.05 0 2.83L4 21.41c.39.39.9.59 1.41.59.51 0 1.02-.2 1.41-.59l7.78-7.78 2.81-2.81c.8-.78.8-2.07 0-2.86zM5.41 20L4 18.59l7.72-7.72 1.47 1.35L5.41 20z\"/>\n",
              "  </svg>\n",
              "      </button>\n",
              "      \n",
              "  <style>\n",
              "    .colab-df-container {\n",
              "      display:flex;\n",
              "      flex-wrap:wrap;\n",
              "      gap: 12px;\n",
              "    }\n",
              "\n",
              "    .colab-df-convert {\n",
              "      background-color: #E8F0FE;\n",
              "      border: none;\n",
              "      border-radius: 50%;\n",
              "      cursor: pointer;\n",
              "      display: none;\n",
              "      fill: #1967D2;\n",
              "      height: 32px;\n",
              "      padding: 0 0 0 0;\n",
              "      width: 32px;\n",
              "    }\n",
              "\n",
              "    .colab-df-convert:hover {\n",
              "      background-color: #E2EBFA;\n",
              "      box-shadow: 0px 1px 2px rgba(60, 64, 67, 0.3), 0px 1px 3px 1px rgba(60, 64, 67, 0.15);\n",
              "      fill: #174EA6;\n",
              "    }\n",
              "\n",
              "    [theme=dark] .colab-df-convert {\n",
              "      background-color: #3B4455;\n",
              "      fill: #D2E3FC;\n",
              "    }\n",
              "\n",
              "    [theme=dark] .colab-df-convert:hover {\n",
              "      background-color: #434B5C;\n",
              "      box-shadow: 0px 1px 3px 1px rgba(0, 0, 0, 0.15);\n",
              "      filter: drop-shadow(0px 1px 2px rgba(0, 0, 0, 0.3));\n",
              "      fill: #FFFFFF;\n",
              "    }\n",
              "  </style>\n",
              "\n",
              "      <script>\n",
              "        const buttonEl =\n",
              "          document.querySelector('#df-702d2635-eeef-4711-bc8c-900a32261a70 button.colab-df-convert');\n",
              "        buttonEl.style.display =\n",
              "          google.colab.kernel.accessAllowed ? 'block' : 'none';\n",
              "\n",
              "        async function convertToInteractive(key) {\n",
              "          const element = document.querySelector('#df-702d2635-eeef-4711-bc8c-900a32261a70');\n",
              "          const dataTable =\n",
              "            await google.colab.kernel.invokeFunction('convertToInteractive',\n",
              "                                                     [key], {});\n",
              "          if (!dataTable) return;\n",
              "\n",
              "          const docLinkHtml = 'Like what you see? Visit the ' +\n",
              "            '<a target=\"_blank\" href=https://colab.research.google.com/notebooks/data_table.ipynb>data table notebook</a>'\n",
              "            + ' to learn more about interactive tables.';\n",
              "          element.innerHTML = '';\n",
              "          dataTable['output_type'] = 'display_data';\n",
              "          await google.colab.output.renderOutput(dataTable, element);\n",
              "          const docLink = document.createElement('div');\n",
              "          docLink.innerHTML = docLinkHtml;\n",
              "          element.appendChild(docLink);\n",
              "        }\n",
              "      </script>\n",
              "    </div>\n",
              "  </div>\n",
              "  "
            ]
          },
          "metadata": {}
        }
      ]
    },
    {
      "cell_type": "code",
      "source": [
        "mod=model.fit(x_train,y_train,\n",
        "              validation_data=(x_val,y_val),epochs=20,verbose=0)"
      ],
      "metadata": {
        "id": "8mApSO1mNi4j"
      },
      "execution_count": null,
      "outputs": []
    },
    {
      "cell_type": "code",
      "source": [
        "plt.plot(mod.history['loss'])\n",
        "plt.plot(mod.history['val_loss'])\n",
        "plt.title('model loss')\n",
        "plt.ylabel('loss')\n",
        "plt.xlabel('epoch')\n",
        "plt.legend(['train', 'Validation'], loc='upper right')\n",
        "plt.show()"
      ],
      "metadata": {
        "colab": {
          "base_uri": "https://localhost:8080/",
          "height": 295
        },
        "id": "n7z434FrNi2l",
        "outputId": "d2c09075-3bc3-47b1-92c4-2dbaa6d5986d"
      },
      "execution_count": null,
      "outputs": [
        {
          "output_type": "display_data",
          "data": {
            "text/plain": [
              "<Figure size 432x288 with 1 Axes>"
            ],
            "image/png": "[encoded data removed]"
          },
          "metadata": {
            "needs_background": "light"
          }
        }
      ]
    },
    {
      "cell_type": "code",
      "source": [
        "train=model.evaluate(x_train,y_train)\n",
        "print(f'Train accuracy {round(train[1]*100)}%')\n",
        "validate=model.evaluate(x_val,y_val)\n",
        "print(f'Validation accuracy {round(validate[1]*100)}%')\n",
        "test=model.evaluate(x_test,y_test)\n",
        "print(f'Test accuracy {round(test[1]*100)}%')"
      ],
      "metadata": {
        "colab": {
          "base_uri": "https://localhost:8080/"
        },
        "id": "D7A8DhA-SGOf",
        "outputId": "701902e2-80f1-4eca-bbd5-835fac30b5a8"
      },
      "execution_count": null,
      "outputs": [
        {
          "output_type": "stream",
          "name": "stdout",
          "text": [
            "4/4 [==============================] - 0s 4ms/step - loss: 0.0000e+00 - accuracy: 0.6667\n",
            "Train accuracy 67%\n",
            "1/1 [==============================] - 0s 25ms/step - loss: 0.0000e+00 - accuracy: 0.6087\n",
            "Validation accuracy 61%\n",
            "1/1 [==============================] - 0s 23ms/step - loss: 0.0000e+00 - accuracy: 0.7273\n",
            "Test accuracy 73%\n"
          ]
        }
      ]
    },
    {
      "cell_type": "code",
      "source": [
        "dct={}\n",
        "dct['Train_accuracy']=round(train[1]*100,2)\n",
        "dct['Validation_accuracy']=round(validate[1]*100,2)\n",
        "dct['Test_accuracy']=round(test[1]*100,2)\n",
        "d=d.append(dct,ignore_index=True)"
      ],
      "metadata": {
        "id": "GJKPDhQXcyHB"
      },
      "execution_count": null,
      "outputs": []
    },
    {
      "cell_type": "code",
      "source": [
        "# L1 regularization\n",
        "model_l1 = Sequential()\n",
        "model_l1.add(Conv1D(64, 2, activation=\"sigmoid\", input_shape=(5,1)))\n",
        "model_l1.add(Dense(500, activation=\"sigmoid\",\n",
        "                   kernel_initializer='normal',\n",
        "                   kernel_regularizer=regularizers.l1(1e-6)))\n",
        "model_l1.add(Dense(25, activation=\"relu\"))\n",
        "model_l1.add(Dense(550, activation=\"sigmoid\",\n",
        "                   kernel_initializer='normal',\n",
        "                   kernel_regularizer=regularizers.l1(1e-6)))\n",
        "model_l1.add(Flatten())\n",
        "model_l1.add(Dense(1, activation = 'sigmoid'))\n",
        "model_l1.compile(loss = 'categorical_crossentropy',\n",
        "     optimizer = \"adam\",\n",
        "              metrics = ['accuracy'])"
      ],
      "metadata": {
        "id": "wwNIszo-AHOn"
      },
      "execution_count": null,
      "outputs": []
    },
    {
      "cell_type": "code",
      "source": [
        "model_l1.summary()"
      ],
      "metadata": {
        "colab": {
          "base_uri": "https://localhost:8080/"
        },
        "id": "QNuyhGboHHBS",
        "outputId": "e1255b51-e18f-42d2-b4ac-2ce861fc9ec9"
      },
      "execution_count": null,
      "outputs": [
        {
          "output_type": "stream",
          "name": "stdout",
          "text": [
            "Model: \"sequential_19\"\n",
            "_________________________________________________________________\n",
            " Layer (type)                Output Shape              Param #   \n",
            "=================================================================\n",
            " conv1d_19 (Conv1D)          (None, 4, 64)             192       \n",
            "                                                                 \n",
            " dense_76 (Dense)            (None, 4, 500)            32500     \n",
            "                                                                 \n",
            " dense_77 (Dense)            (None, 4, 25)             12525     \n",
            "                                                                 \n",
            " dense_78 (Dense)            (None, 4, 550)            14300     \n",
            "                                                                 \n",
            " flatten_19 (Flatten)        (None, 2200)              0         \n",
            "                                                                 \n",
            " dense_79 (Dense)            (None, 1)                 2201      \n",
            "                                                                 \n",
            "=================================================================\n",
            "Total params: 61,718\n",
            "Trainable params: 61,718\n",
            "Non-trainable params: 0\n",
            "_________________________________________________________________\n"
          ]
        }
      ]
    },
    {
      "cell_type": "code",
      "source": [
        "mod_l1=model_l1.fit(x_train,y_train,\n",
        "                    validation_data=(x_val,y_val),epochs=20,verbose=0)"
      ],
      "metadata": {
        "id": "ooTU5sD0HG-a"
      },
      "execution_count": null,
      "outputs": []
    },
    {
      "cell_type": "code",
      "source": [
        "plt.plot(mod_l1.history['loss'])\n",
        "plt.plot(mod_l1.history['val_loss'])\n",
        "plt.title('model loss')\n",
        "plt.ylabel('loss')\n",
        "plt.xlabel('epoch')\n",
        "plt.legend(['train', 'Validation'], loc='upper right')\n",
        "plt.show()"
      ],
      "metadata": {
        "colab": {
          "base_uri": "https://localhost:8080/",
          "height": 295
        },
        "id": "YVagfjbOHG8A",
        "outputId": "887012c1-4ca5-4eed-fac5-b7a1f39cd57b"
      },
      "execution_count": null,
      "outputs": [
        {
          "output_type": "display_data",
          "data": {
            "text/plain": [
              "<Figure size 432x288 with 1 Axes>"
            ],
            "image/png": "[encoded data removed]"
          },
          "metadata": {
            "needs_background": "light"
          }
        }
      ]
    },
    {
      "cell_type": "code",
      "source": [
        "train_l1=model_l1.evaluate(x_train,y_train)\n",
        "print(f'Train accuracy {round(train_l1[1]*100)}%')\n",
        "validate_l1=model_l1.evaluate(x_val,y_val)\n",
        "print(f'Validation accuracy {round(validate_l1[1]*100)}%')\n",
        "test_l1=model_l1.evaluate(x_test,y_test)\n",
        "print(f'Test accuracy {round(test_l1[1]*100)}%')"
      ],
      "metadata": {
        "colab": {
          "base_uri": "https://localhost:8080/"
        },
        "id": "BGW6l1zBSO-4",
        "outputId": "edf4ae25-04fc-481a-d58b-5b2be8e1bc54"
      },
      "execution_count": null,
      "outputs": [
        {
          "output_type": "stream",
          "name": "stdout",
          "text": [
            "4/4 [==============================] - 0s 6ms/step - loss: 0.0026 - accuracy: 0.3429\n",
            "Train accuracy 34%\n",
            "1/1 [==============================] - 0s 16ms/step - loss: 0.0026 - accuracy: 0.2609\n",
            "Validation accuracy 26%\n",
            "1/1 [==============================] - 0s 17ms/step - loss: 0.0026 - accuracy: 0.3636\n",
            "Test accuracy 36%\n"
          ]
        }
      ]
    },
    {
      "cell_type": "code",
      "source": [
        "dct_l1={}\n",
        "dct_l1['Train_accuracy']=round(train_l1[1]*100,2)\n",
        "dct_l1['Validation_accuracy']=round(validate_l1[1]*100,2)\n",
        "dct_l1['Test_accuracy']=round(test_l1[1]*100,2)\n",
        "d=d.append(dct_l1,ignore_index=True)"
      ],
      "metadata": {
        "id": "SJuVdtIQfL8X"
      },
      "execution_count": null,
      "outputs": []
    },
    {
      "cell_type": "code",
      "source": [
        "# L2 regularization\n",
        "model_l2 = Sequential()\n",
        "model_l2.add(Conv1D(64, 2, activation=\"sigmoid\",\n",
        "                    input_shape=(5,1)))\n",
        "model_l2.add(Dense(500, activation=\"sigmoid\",\n",
        "                   kernel_initializer='normal',\n",
        "                   kernel_regularizer=regularizers.l2(1e-6)))\n",
        "model_l2.add(Dense(25, activation=\"relu\"))\n",
        "model_l2.add(Dense(550, activation=\"sigmoid\",\n",
        "                   kernel_initializer='normal',\n",
        "                   kernel_regularizer=regularizers.l2(1e-6)))\n",
        "model_l2.add(Flatten())\n",
        "model_l2.add(Dense(1, activation = 'sigmoid'))\n",
        "model_l2.compile(loss = 'categorical_crossentropy',\n",
        "     optimizer = \"adam\",\n",
        "              metrics = ['accuracy'])"
      ],
      "metadata": {
        "id": "VQpEufyCHbuB"
      },
      "execution_count": null,
      "outputs": []
    },
    {
      "cell_type": "code",
      "source": [
        "mod_l2=model_l2.fit(x_train,y_train,\n",
        "                    validation_data=(x_val,y_val),epochs=16,verbose=0)"
      ],
      "metadata": {
        "id": "ozvsVV5LHbgB"
      },
      "execution_count": null,
      "outputs": []
    },
    {
      "cell_type": "code",
      "source": [
        "plt.plot(mod_l2.history['loss'])\n",
        "plt.plot(mod_l2.history['val_loss'])\n",
        "plt.title('model loss')\n",
        "plt.ylabel('loss')\n",
        "plt.xlabel('epoch')\n",
        "plt.legend(['train', 'Validation'], loc='upper right')\n",
        "plt.show()"
      ],
      "metadata": {
        "colab": {
          "base_uri": "https://localhost:8080/",
          "height": 295
        },
        "id": "4yQ_OiFwHvXB",
        "outputId": "c35fc4b7-5be4-4c80-f160-eee75b0b0151"
      },
      "execution_count": null,
      "outputs": [
        {
          "output_type": "display_data",
          "data": {
            "text/plain": [
              "<Figure size 432x288 with 1 Axes>"
            ],
            "image/png": "[encoded data removed]"
          },
          "metadata": {
            "needs_background": "light"
          }
        }
      ]
    },
    {
      "cell_type": "code",
      "source": [
        "train_l2=model_l2.evaluate(x_train,y_train)\n",
        "print(f'Train accuracy {round(train_l2[1]*100)}%')\n",
        "validate_l2=model_l2.evaluate(x_val,y_val)\n",
        "print(f'Validation accuracy {round(validate_l2[1]*100)}%')\n",
        "test_l2=model_l2.evaluate(x_test,y_test)\n",
        "print(f'Test accuracy {round(test_l2[1]*100)}%')"
      ],
      "metadata": {
        "colab": {
          "base_uri": "https://localhost:8080/"
        },
        "id": "Bw7SfyDtSaIH",
        "outputId": "226aacdd-d7b5-4b3d-86f0-1ae3b5be7456"
      },
      "execution_count": null,
      "outputs": [
        {
          "output_type": "stream",
          "name": "stdout",
          "text": [
            "4/4 [==============================] - 0s 3ms/step - loss: 1.8111e-04 - accuracy: 0.4571\n",
            "Train accuracy 46%\n",
            "1/1 [==============================] - 0s 20ms/step - loss: 1.8111e-04 - accuracy: 0.3478\n",
            "Validation accuracy 35%\n",
            "1/1 [==============================] - 0s 18ms/step - loss: 1.8111e-04 - accuracy: 0.5000\n",
            "Test accuracy 50%\n"
          ]
        }
      ]
    },
    {
      "cell_type": "code",
      "source": [
        "dct_l2={}\n",
        "dct_l2['Train_accuracy']=round(train_l2[1]*100,2)\n",
        "dct_l2['Validation_accuracy']=round(validate_l2[1]*100,2)\n",
        "dct_l2['Test_accuracy']=round(test_l2[1]*100,2)\n",
        "d=d.append(dct_l2,ignore_index=True)"
      ],
      "metadata": {
        "id": "Wndmepr9foZU"
      },
      "execution_count": null,
      "outputs": []
    },
    {
      "cell_type": "code",
      "source": [
        "model_es = Sequential()\n",
        "model_es.add(Conv1D(64, 2, activation=\"sigmoid\",\n",
        "                    input_shape=(5,1)))\n",
        "model_es.add(Dense(500, activation=\"sigmoid\"))\n",
        "model_es.add(Dense(25, activation=\"relu\"))\n",
        "model_es.add(Dense(550, activation=\"sigmoid\"))\n",
        "model_es.add(Flatten())\n",
        "model_es.add(Dense(1, activation = 'sigmoid'))\n",
        "model_es.compile(loss = 'categorical_crossentropy',\n",
        "     optimizer = \"adam\",\n",
        "              metrics = ['accuracy'])\n",
        "es = EarlyStopping(monitor='val_loss', mode='min',\n",
        "                   verbose=1,patience=200)\n"
      ],
      "metadata": {
        "id": "UVfaBRSZKs_z"
      },
      "execution_count": null,
      "outputs": []
    },
    {
      "cell_type": "code",
      "source": [
        "mod_es=model_es.fit(x_train,y_train,validation_data=(x_val,y_val),\n",
        "                    epochs=2000,verbose=0,callbacks=[es])"
      ],
      "metadata": {
        "colab": {
          "base_uri": "https://localhost:8080/"
        },
        "id": "vf3QVwhHKs4H",
        "outputId": "8dc23a12-52a3-43dc-ca10-283306435ab0"
      },
      "execution_count": null,
      "outputs": [
        {
          "output_type": "stream",
          "name": "stdout",
          "text": [
            "Epoch 201: early stopping\n"
          ]
        }
      ]
    },
    {
      "cell_type": "code",
      "source": [
        "plt.plot(mod_es.history['loss'])\n",
        "plt.plot(mod_es.history['val_loss'])\n",
        "plt.title('model loss')\n",
        "plt.ylabel('loss')\n",
        "plt.xlabel('epoch')\n",
        "plt.legend(['train', 'Validation'], loc='upper right')\n",
        "plt.show()"
      ],
      "metadata": {
        "colab": {
          "base_uri": "https://localhost:8080/",
          "height": 295
        },
        "id": "LuQm2-gMKsQX",
        "outputId": "f8e09b86-e44c-4ec8-8702-820ead765f4e"
      },
      "execution_count": null,
      "outputs": [
        {
          "output_type": "display_data",
          "data": {
            "text/plain": [
              "<Figure size 432x288 with 1 Axes>"
            ],
            "image/png": "[encoded data removed]"
          },
          "metadata": {
            "needs_background": "light"
          }
        }
      ]
    },
    {
      "cell_type": "code",
      "source": [
        "train_es=model_es.evaluate(x_train,y_train)\n",
        "print(f'Train accuracy {round(train_es[1]*100)}%')\n",
        "validate_es=model_es.evaluate(x_val,y_val)\n",
        "print(f'Validation accuracy {round(validate_es[1]*100)}%')\n",
        "test_es=model_es.evaluate(x_test,y_test)\n",
        "print(f'Test accuracy {round(test_es[1]*100)}%')"
      ],
      "metadata": {
        "colab": {
          "base_uri": "https://localhost:8080/"
        },
        "id": "4cqgQJS2Rdnm",
        "outputId": "2330502c-efa6-42e0-d3c2-628956e6246c"
      },
      "execution_count": null,
      "outputs": [
        {
          "output_type": "stream",
          "name": "stdout",
          "text": [
            "4/4 [==============================] - 0s 3ms/step - loss: 0.0000e+00 - accuracy: 0.5333\n",
            "Train accuracy 53%\n",
            "1/1 [==============================] - 0s 17ms/step - loss: 0.0000e+00 - accuracy: 0.3913\n",
            "Validation accuracy 39%\n",
            "1/1 [==============================] - 0s 20ms/step - loss: 0.0000e+00 - accuracy: 0.6364\n",
            "Test accuracy 64%\n"
          ]
        }
      ]
    },
    {
      "cell_type": "code",
      "source": [
        "dct_es={}\n",
        "dct_es['Train_accuracy']=round(train_es[1]*100,2)\n",
        "dct_es['Validation_accuracy']=round(validate_es[1]*100,2)\n",
        "dct_es['Test_accuracy']=round(test_es[1]*100,2)\n",
        "d=d.append(dct_es,ignore_index=True)"
      ],
      "metadata": {
        "id": "KCmhBDGDf2z6"
      },
      "execution_count": null,
      "outputs": []
    },
    {
      "cell_type": "code",
      "source": [
        "model_d = Sequential()\n",
        "model_d.add(Conv1D(64, 2, activation=\"sigmoid\",\n",
        "                   input_shape=(5,1)))\n",
        "model_d.add(Dense(500, activation=\"sigmoid\"))\n",
        "model_d.add(Dropout(0.2))\n",
        "model_d.add(Dense(25, activation=\"relu\"))\n",
        "model_d.add(Dense(550, activation=\"sigmoid\"))\n",
        "model_d.add(Dropout(0.15))\n",
        "model_d.add(Flatten())\n",
        "model_d.add(Dense(1, activation = 'sigmoid'))\n",
        "model_d.compile(loss = 'categorical_crossentropy',\n",
        "     optimizer = \"adam\",\n",
        "              metrics = ['accuracy'])"
      ],
      "metadata": {
        "id": "WxBIgDvJZp3b"
      },
      "execution_count": null,
      "outputs": []
    },
    {
      "cell_type": "code",
      "source": [
        "model_d.summary()"
      ],
      "metadata": {
        "colab": {
          "base_uri": "https://localhost:8080/"
        },
        "id": "da2zT403Zpzv",
        "outputId": "0c1eaa8f-71fb-44d5-b83a-3eaeba657829"
      },
      "execution_count": null,
      "outputs": [
        {
          "output_type": "stream",
          "name": "stdout",
          "text": [
            "Model: \"sequential_22\"\n",
            "_________________________________________________________________\n",
            " Layer (type)                Output Shape              Param #   \n",
            "=================================================================\n",
            " conv1d_22 (Conv1D)          (None, 4, 64)             192       \n",
            "                                                                 \n",
            " dense_88 (Dense)            (None, 4, 500)            32500     \n",
            "                                                                 \n",
            " dropout_6 (Dropout)         (None, 4, 500)            0         \n",
            "                                                                 \n",
            " dense_89 (Dense)            (None, 4, 25)             12525     \n",
            "                                                                 \n",
            " dense_90 (Dense)            (None, 4, 550)            14300     \n",
            "                                                                 \n",
            " dropout_7 (Dropout)         (None, 4, 550)            0         \n",
            "                                                                 \n",
            " flatten_22 (Flatten)        (None, 2200)              0         \n",
            "                                                                 \n",
            " dense_91 (Dense)            (None, 1)                 2201      \n",
            "                                                                 \n",
            "=================================================================\n",
            "Total params: 61,718\n",
            "Trainable params: 61,718\n",
            "Non-trainable params: 0\n",
            "_________________________________________________________________\n"
          ]
        }
      ]
    },
    {
      "cell_type": "code",
      "source": [
        "mod_d=model_d.fit(x_train,y_train,\n",
        "                  validation_data=(x_val,y_val),epochs=20,verbose=0)"
      ],
      "metadata": {
        "id": "xEBJjhfiZpwv"
      },
      "execution_count": null,
      "outputs": []
    },
    {
      "cell_type": "code",
      "source": [
        "plt.plot(mod_d.history['loss'])\n",
        "plt.plot(mod_d.history['val_loss'])\n",
        "plt.title('model loss')\n",
        "plt.ylabel('loss')\n",
        "plt.xlabel('epoch')\n",
        "plt.legend(['train', 'Validation'], loc='upper right')\n",
        "plt.show()"
      ],
      "metadata": {
        "colab": {
          "base_uri": "https://localhost:8080/",
          "height": 295
        },
        "id": "xuw3qFShZpm-",
        "outputId": "de175ca3-0b36-4dce-e08a-9dd7ba2dd13f"
      },
      "execution_count": null,
      "outputs": [
        {
          "output_type": "display_data",
          "data": {
            "text/plain": [
              "<Figure size 432x288 with 1 Axes>"
            ],
            "image/png": "[encoded data removed]"
          },
          "metadata": {
            "needs_background": "light"
          }
        }
      ]
    },
    {
      "cell_type": "code",
      "source": [
        "train_d=model_d.evaluate(x_train,y_train)\n",
        "print(f'Train accuracy {round(train_d[1]*100)}%')\n",
        "validate_d=model_d.evaluate(x_val,y_val)\n",
        "print(f'Validation accuracy {round(validate_d[1]*100)}%')\n",
        "test_d=model_d.evaluate(x_test,y_test)\n",
        "print(f'Test accuracy {round(test_d[1]*100)}%')"
      ],
      "metadata": {
        "colab": {
          "base_uri": "https://localhost:8080/"
        },
        "id": "Y7RsgK2UbSNB",
        "outputId": "39be48f4-617e-4835-c57c-3f984a31e526"
      },
      "execution_count": null,
      "outputs": [
        {
          "output_type": "stream",
          "name": "stdout",
          "text": [
            "4/4 [==============================] - 0s 5ms/step - loss: 0.0000e+00 - accuracy: 0.3429\n",
            "Train accuracy 34%\n",
            "1/1 [==============================] - 0s 49ms/step - loss: 0.0000e+00 - accuracy: 0.2609\n",
            "Validation accuracy 26%\n",
            "1/1 [==============================] - 0s 45ms/step - loss: 0.0000e+00 - accuracy: 0.3636\n",
            "Test accuracy 36%\n"
          ]
        }
      ]
    },
    {
      "cell_type": "code",
      "source": [
        "dct_d={}\n",
        "dct_d['Train_accuracy']=round(train_d[1]*100,2)\n",
        "dct_d['Validation_accuracy']=round(validate_d[1]*100,2)\n",
        "dct_d['Test_accuracy']=round(test_d[1]*100,2)\n",
        "d=d.append(dct_d,ignore_index=True)"
      ],
      "metadata": {
        "id": "rwPdZET8bYoH"
      },
      "execution_count": null,
      "outputs": []
    },
    {
      "cell_type": "code",
      "source": [
        "d['Models']=ind\n",
        "d=d.set_index('Models')"
      ],
      "metadata": {
        "id": "sClL1CQFbYgt"
      },
      "execution_count": null,
      "outputs": []
    },
    {
      "cell_type": "code",
      "source": [
        "display(d)"
      ],
      "metadata": {
        "colab": {
          "base_uri": "https://localhost:8080/",
          "height": 228
        },
        "id": "-f6gUpIfvMG7",
        "outputId": "e0e41fc4-5108-432d-d430-9c6aaff4b9fe"
      },
      "execution_count": null,
      "outputs": [
        {
          "output_type": "display_data",
          "data": {
            "text/plain": [
              "                Train_accuracy  Validation_accuracy  Test_accuracy\n",
              "Models                                                            \n",
              "Model                    66.67                60.87          72.73\n",
              "L1(1e-6)                 34.29                26.09          36.36\n",
              "L2(1e-6)                 45.71                34.78          50.00\n",
              "Early_Stopping           53.33                39.13          63.64\n",
              "Drop_out                 34.29                26.09          36.36"
            ],
            "text/html": [
              "\n",
              "  <div id=\"df-d9110313-b6bb-41bd-81c1-aa1c782a73e6\">\n",
              "    <div class=\"colab-df-container\">\n",
              "      <div>\n",
              "<style scoped>\n",
              "    .dataframe tbody tr th:only-of-type {\n",
              "        vertical-align: middle;\n",
              "    }\n",
              "\n",
              "    .dataframe tbody tr th {\n",
              "        vertical-align: top;\n",
              "    }\n",
              "\n",
              "    .dataframe thead th {\n",
              "        text-align: right;\n",
              "    }\n",
              "</style>\n",
              "<table border=\"1\" class=\"dataframe\">\n",
              "  <thead>\n",
              "    <tr style=\"text-align: right;\">\n",
              "      <th></th>\n",
              "      <th>Train_accuracy</th>\n",
              "      <th>Validation_accuracy</th>\n",
              "      <th>Test_accuracy</th>\n",
              "    </tr>\n",
              "    <tr>\n",
              "      <th>Models</th>\n",
              "      <th></th>\n",
              "      <th></th>\n",
              "      <th></th>\n",
              "    </tr>\n",
              "  </thead>\n",
              "  <tbody>\n",
              "    <tr>\n",
              "      <th>Model</th>\n",
              "      <td>66.67</td>\n",
              "      <td>60.87</td>\n",
              "      <td>72.73</td>\n",
              "    </tr>\n",
              "    <tr>\n",
              "      <th>L1(1e-6)</th>\n",
              "      <td>34.29</td>\n",
              "      <td>26.09</td>\n",
              "      <td>36.36</td>\n",
              "    </tr>\n",
              "    <tr>\n",
              "      <th>L2(1e-6)</th>\n",
              "      <td>45.71</td>\n",
              "      <td>34.78</td>\n",
              "      <td>50.00</td>\n",
              "    </tr>\n",
              "    <tr>\n",
              "      <th>Early_Stopping</th>\n",
              "      <td>53.33</td>\n",
              "      <td>39.13</td>\n",
              "      <td>63.64</td>\n",
              "    </tr>\n",
              "    <tr>\n",
              "      <th>Drop_out</th>\n",
              "      <td>34.29</td>\n",
              "      <td>26.09</td>\n",
              "      <td>36.36</td>\n",
              "    </tr>\n",
              "  </tbody>\n",
              "</table>\n",
              "</div>\n",
              "      <button class=\"colab-df-convert\" onclick=\"convertToInteractive('df-d9110313-b6bb-41bd-81c1-aa1c782a73e6')\"\n",
              "              title=\"Convert this dataframe to an interactive table.\"\n",
              "              style=\"display:none;\">\n",
              "        \n",
              "  <svg xmlns=\"http://www.w3.org/2000/svg\" height=\"24px\"viewBox=\"0 0 24 24\"\n",
              "       width=\"24px\">\n",
              "    <path d=\"M0 0h24v24H0V0z\" fill=\"none\"/>\n",
              "    <path d=\"M18.56 5.44l.94 2.06.94-2.06 2.06-.94-2.06-.94-.94-2.06-.94 2.06-2.06.94zm-11 1L8.5 8.5l.94-2.06 2.06-.94-2.06-.94L8.5 2.5l-.94 2.06-2.06.94zm10 10l.94 2.06.94-2.06 2.06-.94-2.06-.94-.94-2.06-.94 2.06-2.06.94z\"/><path d=\"M17.41 7.96l-1.37-1.37c-.4-.4-.92-.59-1.43-.59-.52 0-1.04.2-1.43.59L10.3 9.45l-7.72 7.72c-.78.78-.78 2.05 0 2.83L4 21.41c.39.39.9.59 1.41.59.51 0 1.02-.2 1.41-.59l7.78-7.78 2.81-2.81c.8-.78.8-2.07 0-2.86zM5.41 20L4 18.59l7.72-7.72 1.47 1.35L5.41 20z\"/>\n",
              "  </svg>\n",
              "      </button>\n",
              "      \n",
              "  <style>\n",
              "    .colab-df-container {\n",
              "      display:flex;\n",
              "      flex-wrap:wrap;\n",
              "      gap: 12px;\n",
              "    }\n",
              "\n",
              "    .colab-df-convert {\n",
              "      background-color: #E8F0FE;\n",
              "      border: none;\n",
              "      border-radius: 50%;\n",
              "      cursor: pointer;\n",
              "      display: none;\n",
              "      fill: #1967D2;\n",
              "      height: 32px;\n",
              "      padding: 0 0 0 0;\n",
              "      width: 32px;\n",
              "    }\n",
              "\n",
              "    .colab-df-convert:hover {\n",
              "      background-color: #E2EBFA;\n",
              "      box-shadow: 0px 1px 2px rgba(60, 64, 67, 0.3), 0px 1px 3px 1px rgba(60, 64, 67, 0.15);\n",
              "      fill: #174EA6;\n",
              "    }\n",
              "\n",
              "    [theme=dark] .colab-df-convert {\n",
              "      background-color: #3B4455;\n",
              "      fill: #D2E3FC;\n",
              "    }\n",
              "\n",
              "    [theme=dark] .colab-df-convert:hover {\n",
              "      background-color: #434B5C;\n",
              "      box-shadow: 0px 1px 3px 1px rgba(0, 0, 0, 0.15);\n",
              "      filter: drop-shadow(0px 1px 2px rgba(0, 0, 0, 0.3));\n",
              "      fill: #FFFFFF;\n",
              "    }\n",
              "  </style>\n",
              "\n",
              "      <script>\n",
              "        const buttonEl =\n",
              "          document.querySelector('#df-d9110313-b6bb-41bd-81c1-aa1c782a73e6 button.colab-df-convert');\n",
              "        buttonEl.style.display =\n",
              "          google.colab.kernel.accessAllowed ? 'block' : 'none';\n",
              "\n",
              "        async function convertToInteractive(key) {\n",
              "          const element = document.querySelector('#df-d9110313-b6bb-41bd-81c1-aa1c782a73e6');\n",
              "          const dataTable =\n",
              "            await google.colab.kernel.invokeFunction('convertToInteractive',\n",
              "                                                     [key], {});\n",
              "          if (!dataTable) return;\n",
              "\n",
              "          const docLinkHtml = 'Like what you see? Visit the ' +\n",
              "            '<a target=\"_blank\" href=https://colab.research.google.com/notebooks/data_table.ipynb>data table notebook</a>'\n",
              "            + ' to learn more about interactive tables.';\n",
              "          element.innerHTML = '';\n",
              "          dataTable['output_type'] = 'display_data';\n",
              "          await google.colab.output.renderOutput(dataTable, element);\n",
              "          const docLink = document.createElement('div');\n",
              "          docLink.innerHTML = docLinkHtml;\n",
              "          element.appendChild(docLink);\n",
              "        }\n",
              "      </script>\n",
              "    </div>\n",
              "  </div>\n",
              "  "
            ]
          },
          "metadata": {}
        }
      ]
    },
    {
      "cell_type": "markdown",
      "source": [
        "##Conclusion: As we can observe from our initial CNN model the train accuracy is more than validation accuracy it indicates that our model is overfit. To overcome this we use various regularization methods and among those the models with regularization techniques L1 with parameter 1e-6 and Drop out with percentage 20 and 15 showed a better result.Therefore these two regularization techniques are the best for our model generalization."
      ],
      "metadata": {
        "id": "nhE-9nMdgS16"
      }
    },
    {
      "cell_type": "code",
      "source": [],
      "metadata": {
        "id": "nUw2kuRfTc4_"
      },
      "execution_count": null,
      "outputs": []
    }
  ]
}